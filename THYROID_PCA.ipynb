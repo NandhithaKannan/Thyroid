{
 "cells": [
  {
   "cell_type": "markdown",
   "metadata": {},
   "source": [
    "# Prediction of thyroid disease using Machine learning and PCA"
   ]
  },
  {
   "cell_type": "markdown",
   "metadata": {},
   "source": [
    "## 1.DATA WRANGLING"
   ]
  },
  {
   "cell_type": "markdown",
   "metadata": {},
   "source": [
    "### 1.1 Importing Libraries"
   ]
  },
  {
   "cell_type": "code",
   "execution_count": 2,
   "metadata": {},
   "outputs": [],
   "source": [
    "import pandas as pd\n",
    "import numpy as np\n",
    "import seaborn as sns\n",
    "import matplotlib.pyplot as plt\n",
    "%matplotlib inline"
   ]
  },
  {
   "cell_type": "markdown",
   "metadata": {},
   "source": [
    "### 1.2 Loading the training dataset"
   ]
  },
  {
   "cell_type": "code",
   "execution_count": 3,
   "metadata": {},
   "outputs": [],
   "source": [
    "td = pd.read_csv(r\"C:\\Users\\Nandhitha\\Desktop\\thyroid_traindata.csv\")"
   ]
  },
  {
   "cell_type": "code",
   "execution_count": 4,
   "metadata": {},
   "outputs": [
    {
     "data": {
      "text/html": [
       "<div>\n",
       "<style scoped>\n",
       "    .dataframe tbody tr th:only-of-type {\n",
       "        vertical-align: middle;\n",
       "    }\n",
       "\n",
       "    .dataframe tbody tr th {\n",
       "        vertical-align: top;\n",
       "    }\n",
       "\n",
       "    .dataframe thead th {\n",
       "        text-align: right;\n",
       "    }\n",
       "</style>\n",
       "<table border=\"1\" class=\"dataframe\">\n",
       "  <thead>\n",
       "    <tr style=\"text-align: right;\">\n",
       "      <th></th>\n",
       "      <th>Age</th>\n",
       "      <th>Sex</th>\n",
       "      <th>On_thyroxine</th>\n",
       "      <th>Query_on_thyroxine</th>\n",
       "      <th>On_antithyroid_medication</th>\n",
       "      <th>Sick</th>\n",
       "      <th>Pregnant</th>\n",
       "      <th>Thyroid_surgery</th>\n",
       "      <th>I131_treatment</th>\n",
       "      <th>. Query_hypothyroid</th>\n",
       "      <th>...</th>\n",
       "      <th>Goiter</th>\n",
       "      <th>Tumor</th>\n",
       "      <th>Hypopituitary</th>\n",
       "      <th>Psych</th>\n",
       "      <th>TSH</th>\n",
       "      <th>T3</th>\n",
       "      <th>TT4</th>\n",
       "      <th>T4U</th>\n",
       "      <th>FTI</th>\n",
       "      <th>Class</th>\n",
       "    </tr>\n",
       "  </thead>\n",
       "  <tbody>\n",
       "    <tr>\n",
       "      <th>0</th>\n",
       "      <td>0.73</td>\n",
       "      <td>0</td>\n",
       "      <td>1</td>\n",
       "      <td>0</td>\n",
       "      <td>0</td>\n",
       "      <td>0</td>\n",
       "      <td>0</td>\n",
       "      <td>0</td>\n",
       "      <td>1</td>\n",
       "      <td>0</td>\n",
       "      <td>...</td>\n",
       "      <td>0</td>\n",
       "      <td>0</td>\n",
       "      <td>0</td>\n",
       "      <td>0</td>\n",
       "      <td>0.00060</td>\n",
       "      <td>0.015</td>\n",
       "      <td>0.120</td>\n",
       "      <td>0.082</td>\n",
       "      <td>0.146</td>\n",
       "      <td>3</td>\n",
       "    </tr>\n",
       "    <tr>\n",
       "      <th>1</th>\n",
       "      <td>0.24</td>\n",
       "      <td>0</td>\n",
       "      <td>0</td>\n",
       "      <td>0</td>\n",
       "      <td>0</td>\n",
       "      <td>0</td>\n",
       "      <td>0</td>\n",
       "      <td>0</td>\n",
       "      <td>0</td>\n",
       "      <td>0</td>\n",
       "      <td>...</td>\n",
       "      <td>0</td>\n",
       "      <td>0</td>\n",
       "      <td>0</td>\n",
       "      <td>0</td>\n",
       "      <td>0.00025</td>\n",
       "      <td>0.030</td>\n",
       "      <td>0.143</td>\n",
       "      <td>0.133</td>\n",
       "      <td>0.108</td>\n",
       "      <td>3</td>\n",
       "    </tr>\n",
       "    <tr>\n",
       "      <th>2</th>\n",
       "      <td>0.47</td>\n",
       "      <td>0</td>\n",
       "      <td>0</td>\n",
       "      <td>0</td>\n",
       "      <td>0</td>\n",
       "      <td>0</td>\n",
       "      <td>0</td>\n",
       "      <td>0</td>\n",
       "      <td>0</td>\n",
       "      <td>0</td>\n",
       "      <td>...</td>\n",
       "      <td>0</td>\n",
       "      <td>0</td>\n",
       "      <td>0</td>\n",
       "      <td>0</td>\n",
       "      <td>0.00190</td>\n",
       "      <td>0.024</td>\n",
       "      <td>0.102</td>\n",
       "      <td>0.131</td>\n",
       "      <td>0.078</td>\n",
       "      <td>3</td>\n",
       "    </tr>\n",
       "    <tr>\n",
       "      <th>3</th>\n",
       "      <td>0.64</td>\n",
       "      <td>1</td>\n",
       "      <td>0</td>\n",
       "      <td>0</td>\n",
       "      <td>0</td>\n",
       "      <td>0</td>\n",
       "      <td>0</td>\n",
       "      <td>0</td>\n",
       "      <td>0</td>\n",
       "      <td>0</td>\n",
       "      <td>...</td>\n",
       "      <td>0</td>\n",
       "      <td>0</td>\n",
       "      <td>0</td>\n",
       "      <td>0</td>\n",
       "      <td>0.00090</td>\n",
       "      <td>0.017</td>\n",
       "      <td>0.077</td>\n",
       "      <td>0.090</td>\n",
       "      <td>0.085</td>\n",
       "      <td>3</td>\n",
       "    </tr>\n",
       "    <tr>\n",
       "      <th>4</th>\n",
       "      <td>0.23</td>\n",
       "      <td>0</td>\n",
       "      <td>0</td>\n",
       "      <td>0</td>\n",
       "      <td>0</td>\n",
       "      <td>0</td>\n",
       "      <td>0</td>\n",
       "      <td>0</td>\n",
       "      <td>0</td>\n",
       "      <td>0</td>\n",
       "      <td>...</td>\n",
       "      <td>0</td>\n",
       "      <td>0</td>\n",
       "      <td>0</td>\n",
       "      <td>0</td>\n",
       "      <td>0.00025</td>\n",
       "      <td>0.026</td>\n",
       "      <td>0.139</td>\n",
       "      <td>0.090</td>\n",
       "      <td>0.153</td>\n",
       "      <td>3</td>\n",
       "    </tr>\n",
       "  </tbody>\n",
       "</table>\n",
       "<p>5 rows × 22 columns</p>\n",
       "</div>"
      ],
      "text/plain": [
       "    Age  Sex  On_thyroxine  Query_on_thyroxine  On_antithyroid_medication  \\\n",
       "0  0.73    0             1                   0                          0   \n",
       "1  0.24    0             0                   0                          0   \n",
       "2  0.47    0             0                   0                          0   \n",
       "3  0.64    1             0                   0                          0   \n",
       "4  0.23    0             0                   0                          0   \n",
       "\n",
       "   Sick  Pregnant  Thyroid_surgery  I131_treatment  . Query_hypothyroid  ...  \\\n",
       "0     0         0                0               1                    0  ...   \n",
       "1     0         0                0               0                    0  ...   \n",
       "2     0         0                0               0                    0  ...   \n",
       "3     0         0                0               0                    0  ...   \n",
       "4     0         0                0               0                    0  ...   \n",
       "\n",
       "   Goiter  Tumor  Hypopituitary  Psych      TSH     T3    TT4    T4U    FTI  \\\n",
       "0       0      0              0      0  0.00060  0.015  0.120  0.082  0.146   \n",
       "1       0      0              0      0  0.00025  0.030  0.143  0.133  0.108   \n",
       "2       0      0              0      0  0.00190  0.024  0.102  0.131  0.078   \n",
       "3       0      0              0      0  0.00090  0.017  0.077  0.090  0.085   \n",
       "4       0      0              0      0  0.00025  0.026  0.139  0.090  0.153   \n",
       "\n",
       "   Class  \n",
       "0      3  \n",
       "1      3  \n",
       "2      3  \n",
       "3      3  \n",
       "4      3  \n",
       "\n",
       "[5 rows x 22 columns]"
      ]
     },
     "execution_count": 4,
     "metadata": {},
     "output_type": "execute_result"
    }
   ],
   "source": [
    "td.head()"
   ]
  },
  {
   "cell_type": "code",
   "execution_count": 5,
   "metadata": {},
   "outputs": [
    {
     "name": "stdout",
     "output_type": "stream",
     "text": [
      "<class 'pandas.core.frame.DataFrame'>\n",
      "RangeIndex: 3771 entries, 0 to 3770\n",
      "Data columns (total 22 columns):\n",
      " #   Column                     Non-Null Count  Dtype  \n",
      "---  ------                     --------------  -----  \n",
      " 0   Age                        3771 non-null   float64\n",
      " 1   Sex                        3771 non-null   int64  \n",
      " 2   On_thyroxine               3771 non-null   int64  \n",
      " 3   Query_on_thyroxine         3771 non-null   int64  \n",
      " 4   On_antithyroid_medication  3771 non-null   int64  \n",
      " 5   Sick                       3771 non-null   int64  \n",
      " 6   Pregnant                   3771 non-null   int64  \n",
      " 7   Thyroid_surgery            3771 non-null   int64  \n",
      " 8   I131_treatment             3771 non-null   int64  \n",
      " 9   . Query_hypothyroid        3771 non-null   int64  \n",
      " 10  Query_hyperthyroid         3771 non-null   int64  \n",
      " 11  Lithium                    3771 non-null   int64  \n",
      " 12  Goiter                     3771 non-null   int64  \n",
      " 13  Tumor                      3771 non-null   int64  \n",
      " 14  Hypopituitary              3771 non-null   int64  \n",
      " 15  Psych                      3771 non-null   int64  \n",
      " 16  TSH                        3771 non-null   float64\n",
      " 17  T3                         3771 non-null   float64\n",
      " 18  TT4                        3771 non-null   float64\n",
      " 19  T4U                        3771 non-null   float64\n",
      " 20  FTI                        3771 non-null   float64\n",
      " 21  Class                      3771 non-null   int64  \n",
      "dtypes: float64(6), int64(16)\n",
      "memory usage: 648.3 KB\n"
     ]
    }
   ],
   "source": [
    "td.info()"
   ]
  },
  {
   "cell_type": "code",
   "execution_count": 6,
   "metadata": {},
   "outputs": [],
   "source": [
    "td.Class = td.Class.astype(int)"
   ]
  },
  {
   "cell_type": "code",
   "execution_count": 7,
   "metadata": {},
   "outputs": [
    {
     "name": "stdout",
     "output_type": "stream",
     "text": [
      "<class 'pandas.core.frame.DataFrame'>\n",
      "RangeIndex: 3771 entries, 0 to 3770\n",
      "Data columns (total 22 columns):\n",
      " #   Column                     Non-Null Count  Dtype  \n",
      "---  ------                     --------------  -----  \n",
      " 0   Age                        3771 non-null   float64\n",
      " 1   Sex                        3771 non-null   int64  \n",
      " 2   On_thyroxine               3771 non-null   int64  \n",
      " 3   Query_on_thyroxine         3771 non-null   int64  \n",
      " 4   On_antithyroid_medication  3771 non-null   int64  \n",
      " 5   Sick                       3771 non-null   int64  \n",
      " 6   Pregnant                   3771 non-null   int64  \n",
      " 7   Thyroid_surgery            3771 non-null   int64  \n",
      " 8   I131_treatment             3771 non-null   int64  \n",
      " 9   . Query_hypothyroid        3771 non-null   int64  \n",
      " 10  Query_hyperthyroid         3771 non-null   int64  \n",
      " 11  Lithium                    3771 non-null   int64  \n",
      " 12  Goiter                     3771 non-null   int64  \n",
      " 13  Tumor                      3771 non-null   int64  \n",
      " 14  Hypopituitary              3771 non-null   int64  \n",
      " 15  Psych                      3771 non-null   int64  \n",
      " 16  TSH                        3771 non-null   float64\n",
      " 17  T3                         3771 non-null   float64\n",
      " 18  TT4                        3771 non-null   float64\n",
      " 19  T4U                        3771 non-null   float64\n",
      " 20  FTI                        3771 non-null   float64\n",
      " 21  Class                      3771 non-null   int32  \n",
      "dtypes: float64(6), int32(1), int64(15)\n",
      "memory usage: 633.5 KB\n"
     ]
    }
   ],
   "source": [
    "td.info()"
   ]
  },
  {
   "cell_type": "code",
   "execution_count": 8,
   "metadata": {},
   "outputs": [
    {
     "data": {
      "text/html": [
       "<div>\n",
       "<style scoped>\n",
       "    .dataframe tbody tr th:only-of-type {\n",
       "        vertical-align: middle;\n",
       "    }\n",
       "\n",
       "    .dataframe tbody tr th {\n",
       "        vertical-align: top;\n",
       "    }\n",
       "\n",
       "    .dataframe thead th {\n",
       "        text-align: right;\n",
       "    }\n",
       "</style>\n",
       "<table border=\"1\" class=\"dataframe\">\n",
       "  <thead>\n",
       "    <tr style=\"text-align: right;\">\n",
       "      <th></th>\n",
       "      <th>Age</th>\n",
       "      <th>Sex</th>\n",
       "      <th>On_thyroxine</th>\n",
       "      <th>Query_on_thyroxine</th>\n",
       "      <th>On_antithyroid_medication</th>\n",
       "      <th>Sick</th>\n",
       "      <th>Pregnant</th>\n",
       "      <th>Thyroid_surgery</th>\n",
       "      <th>I131_treatment</th>\n",
       "      <th>. Query_hypothyroid</th>\n",
       "      <th>...</th>\n",
       "      <th>Goiter</th>\n",
       "      <th>Tumor</th>\n",
       "      <th>Hypopituitary</th>\n",
       "      <th>Psych</th>\n",
       "      <th>TSH</th>\n",
       "      <th>T3</th>\n",
       "      <th>TT4</th>\n",
       "      <th>T4U</th>\n",
       "      <th>FTI</th>\n",
       "      <th>Class</th>\n",
       "    </tr>\n",
       "  </thead>\n",
       "  <tbody>\n",
       "    <tr>\n",
       "      <th>count</th>\n",
       "      <td>3771.000000</td>\n",
       "      <td>3771.000000</td>\n",
       "      <td>3771.000000</td>\n",
       "      <td>3771.000000</td>\n",
       "      <td>3771.000000</td>\n",
       "      <td>3771.000000</td>\n",
       "      <td>3771.000000</td>\n",
       "      <td>3771.000000</td>\n",
       "      <td>3771.000000</td>\n",
       "      <td>3771.000000</td>\n",
       "      <td>...</td>\n",
       "      <td>3771.000000</td>\n",
       "      <td>3771.000000</td>\n",
       "      <td>3771.000000</td>\n",
       "      <td>3771.000000</td>\n",
       "      <td>3771.000000</td>\n",
       "      <td>3771.000000</td>\n",
       "      <td>3771.000000</td>\n",
       "      <td>3771.000000</td>\n",
       "      <td>3771.000000</td>\n",
       "      <td>3771.000000</td>\n",
       "    </tr>\n",
       "    <tr>\n",
       "      <th>mean</th>\n",
       "      <td>0.515102</td>\n",
       "      <td>0.303103</td>\n",
       "      <td>0.123309</td>\n",
       "      <td>0.012994</td>\n",
       "      <td>0.011403</td>\n",
       "      <td>0.038451</td>\n",
       "      <td>0.014055</td>\n",
       "      <td>0.014320</td>\n",
       "      <td>0.015115</td>\n",
       "      <td>0.062053</td>\n",
       "      <td>...</td>\n",
       "      <td>0.008751</td>\n",
       "      <td>0.025192</td>\n",
       "      <td>0.000265</td>\n",
       "      <td>0.049324</td>\n",
       "      <td>0.004762</td>\n",
       "      <td>0.020192</td>\n",
       "      <td>0.108284</td>\n",
       "      <td>0.099285</td>\n",
       "      <td>0.110155</td>\n",
       "      <td>2.900027</td>\n",
       "    </tr>\n",
       "    <tr>\n",
       "      <th>std</th>\n",
       "      <td>0.189550</td>\n",
       "      <td>0.459660</td>\n",
       "      <td>0.328836</td>\n",
       "      <td>0.113263</td>\n",
       "      <td>0.106187</td>\n",
       "      <td>0.192309</td>\n",
       "      <td>0.117732</td>\n",
       "      <td>0.118821</td>\n",
       "      <td>0.122028</td>\n",
       "      <td>0.241283</td>\n",
       "      <td>...</td>\n",
       "      <td>0.093149</td>\n",
       "      <td>0.156729</td>\n",
       "      <td>0.016284</td>\n",
       "      <td>0.216572</td>\n",
       "      <td>0.023311</td>\n",
       "      <td>0.007422</td>\n",
       "      <td>0.034492</td>\n",
       "      <td>0.018614</td>\n",
       "      <td>0.033497</td>\n",
       "      <td>0.373282</td>\n",
       "    </tr>\n",
       "    <tr>\n",
       "      <th>min</th>\n",
       "      <td>0.010000</td>\n",
       "      <td>0.000000</td>\n",
       "      <td>0.000000</td>\n",
       "      <td>0.000000</td>\n",
       "      <td>0.000000</td>\n",
       "      <td>0.000000</td>\n",
       "      <td>0.000000</td>\n",
       "      <td>0.000000</td>\n",
       "      <td>0.000000</td>\n",
       "      <td>0.000000</td>\n",
       "      <td>...</td>\n",
       "      <td>0.000000</td>\n",
       "      <td>0.000000</td>\n",
       "      <td>0.000000</td>\n",
       "      <td>0.000000</td>\n",
       "      <td>0.000000</td>\n",
       "      <td>0.000500</td>\n",
       "      <td>0.002000</td>\n",
       "      <td>0.019000</td>\n",
       "      <td>0.002000</td>\n",
       "      <td>1.000000</td>\n",
       "    </tr>\n",
       "    <tr>\n",
       "      <th>25%</th>\n",
       "      <td>0.360000</td>\n",
       "      <td>0.000000</td>\n",
       "      <td>0.000000</td>\n",
       "      <td>0.000000</td>\n",
       "      <td>0.000000</td>\n",
       "      <td>0.000000</td>\n",
       "      <td>0.000000</td>\n",
       "      <td>0.000000</td>\n",
       "      <td>0.000000</td>\n",
       "      <td>0.000000</td>\n",
       "      <td>...</td>\n",
       "      <td>0.000000</td>\n",
       "      <td>0.000000</td>\n",
       "      <td>0.000000</td>\n",
       "      <td>0.000000</td>\n",
       "      <td>0.000600</td>\n",
       "      <td>0.017000</td>\n",
       "      <td>0.089000</td>\n",
       "      <td>0.089000</td>\n",
       "      <td>0.093000</td>\n",
       "      <td>3.000000</td>\n",
       "    </tr>\n",
       "    <tr>\n",
       "      <th>50%</th>\n",
       "      <td>0.540000</td>\n",
       "      <td>0.000000</td>\n",
       "      <td>0.000000</td>\n",
       "      <td>0.000000</td>\n",
       "      <td>0.000000</td>\n",
       "      <td>0.000000</td>\n",
       "      <td>0.000000</td>\n",
       "      <td>0.000000</td>\n",
       "      <td>0.000000</td>\n",
       "      <td>0.000000</td>\n",
       "      <td>...</td>\n",
       "      <td>0.000000</td>\n",
       "      <td>0.000000</td>\n",
       "      <td>0.000000</td>\n",
       "      <td>0.000000</td>\n",
       "      <td>0.001600</td>\n",
       "      <td>0.020600</td>\n",
       "      <td>0.105000</td>\n",
       "      <td>0.099000</td>\n",
       "      <td>0.108000</td>\n",
       "      <td>3.000000</td>\n",
       "    </tr>\n",
       "    <tr>\n",
       "      <th>75%</th>\n",
       "      <td>0.670000</td>\n",
       "      <td>1.000000</td>\n",
       "      <td>0.000000</td>\n",
       "      <td>0.000000</td>\n",
       "      <td>0.000000</td>\n",
       "      <td>0.000000</td>\n",
       "      <td>0.000000</td>\n",
       "      <td>0.000000</td>\n",
       "      <td>0.000000</td>\n",
       "      <td>0.000000</td>\n",
       "      <td>...</td>\n",
       "      <td>0.000000</td>\n",
       "      <td>0.000000</td>\n",
       "      <td>0.000000</td>\n",
       "      <td>0.000000</td>\n",
       "      <td>0.002400</td>\n",
       "      <td>0.023000</td>\n",
       "      <td>0.123000</td>\n",
       "      <td>0.107000</td>\n",
       "      <td>0.122000</td>\n",
       "      <td>3.000000</td>\n",
       "    </tr>\n",
       "    <tr>\n",
       "      <th>max</th>\n",
       "      <td>0.940000</td>\n",
       "      <td>1.000000</td>\n",
       "      <td>1.000000</td>\n",
       "      <td>1.000000</td>\n",
       "      <td>1.000000</td>\n",
       "      <td>1.000000</td>\n",
       "      <td>1.000000</td>\n",
       "      <td>1.000000</td>\n",
       "      <td>1.000000</td>\n",
       "      <td>1.000000</td>\n",
       "      <td>...</td>\n",
       "      <td>1.000000</td>\n",
       "      <td>1.000000</td>\n",
       "      <td>1.000000</td>\n",
       "      <td>1.000000</td>\n",
       "      <td>0.530000</td>\n",
       "      <td>0.105900</td>\n",
       "      <td>0.430000</td>\n",
       "      <td>0.232000</td>\n",
       "      <td>0.612000</td>\n",
       "      <td>3.000000</td>\n",
       "    </tr>\n",
       "  </tbody>\n",
       "</table>\n",
       "<p>8 rows × 22 columns</p>\n",
       "</div>"
      ],
      "text/plain": [
       "               Age          Sex  On_thyroxine  Query_on_thyroxine  \\\n",
       "count  3771.000000  3771.000000   3771.000000         3771.000000   \n",
       "mean      0.515102     0.303103      0.123309            0.012994   \n",
       "std       0.189550     0.459660      0.328836            0.113263   \n",
       "min       0.010000     0.000000      0.000000            0.000000   \n",
       "25%       0.360000     0.000000      0.000000            0.000000   \n",
       "50%       0.540000     0.000000      0.000000            0.000000   \n",
       "75%       0.670000     1.000000      0.000000            0.000000   \n",
       "max       0.940000     1.000000      1.000000            1.000000   \n",
       "\n",
       "       On_antithyroid_medication         Sick     Pregnant  Thyroid_surgery  \\\n",
       "count                3771.000000  3771.000000  3771.000000      3771.000000   \n",
       "mean                    0.011403     0.038451     0.014055         0.014320   \n",
       "std                     0.106187     0.192309     0.117732         0.118821   \n",
       "min                     0.000000     0.000000     0.000000         0.000000   \n",
       "25%                     0.000000     0.000000     0.000000         0.000000   \n",
       "50%                     0.000000     0.000000     0.000000         0.000000   \n",
       "75%                     0.000000     0.000000     0.000000         0.000000   \n",
       "max                     1.000000     1.000000     1.000000         1.000000   \n",
       "\n",
       "       I131_treatment  . Query_hypothyroid  ...       Goiter        Tumor  \\\n",
       "count     3771.000000          3771.000000  ...  3771.000000  3771.000000   \n",
       "mean         0.015115             0.062053  ...     0.008751     0.025192   \n",
       "std          0.122028             0.241283  ...     0.093149     0.156729   \n",
       "min          0.000000             0.000000  ...     0.000000     0.000000   \n",
       "25%          0.000000             0.000000  ...     0.000000     0.000000   \n",
       "50%          0.000000             0.000000  ...     0.000000     0.000000   \n",
       "75%          0.000000             0.000000  ...     0.000000     0.000000   \n",
       "max          1.000000             1.000000  ...     1.000000     1.000000   \n",
       "\n",
       "       Hypopituitary        Psych          TSH           T3          TT4  \\\n",
       "count    3771.000000  3771.000000  3771.000000  3771.000000  3771.000000   \n",
       "mean        0.000265     0.049324     0.004762     0.020192     0.108284   \n",
       "std         0.016284     0.216572     0.023311     0.007422     0.034492   \n",
       "min         0.000000     0.000000     0.000000     0.000500     0.002000   \n",
       "25%         0.000000     0.000000     0.000600     0.017000     0.089000   \n",
       "50%         0.000000     0.000000     0.001600     0.020600     0.105000   \n",
       "75%         0.000000     0.000000     0.002400     0.023000     0.123000   \n",
       "max         1.000000     1.000000     0.530000     0.105900     0.430000   \n",
       "\n",
       "               T4U          FTI        Class  \n",
       "count  3771.000000  3771.000000  3771.000000  \n",
       "mean      0.099285     0.110155     2.900027  \n",
       "std       0.018614     0.033497     0.373282  \n",
       "min       0.019000     0.002000     1.000000  \n",
       "25%       0.089000     0.093000     3.000000  \n",
       "50%       0.099000     0.108000     3.000000  \n",
       "75%       0.107000     0.122000     3.000000  \n",
       "max       0.232000     0.612000     3.000000  \n",
       "\n",
       "[8 rows x 22 columns]"
      ]
     },
     "execution_count": 8,
     "metadata": {},
     "output_type": "execute_result"
    }
   ],
   "source": [
    "td.describe()"
   ]
  },
  {
   "cell_type": "code",
   "execution_count": 9,
   "metadata": {},
   "outputs": [
    {
     "data": {
      "text/plain": [
       "(3771, 22)"
      ]
     },
     "execution_count": 9,
     "metadata": {},
     "output_type": "execute_result"
    }
   ],
   "source": [
    "td.shape"
   ]
  },
  {
   "cell_type": "code",
   "execution_count": 10,
   "metadata": {},
   "outputs": [
    {
     "data": {
      "text/plain": [
       "False"
      ]
     },
     "execution_count": 10,
     "metadata": {},
     "output_type": "execute_result"
    }
   ],
   "source": [
    "td.isnull().values.all()"
   ]
  },
  {
   "cell_type": "code",
   "execution_count": 11,
   "metadata": {},
   "outputs": [
    {
     "data": {
      "text/plain": [
       "0    73.0\n",
       "1    24.0\n",
       "2    47.0\n",
       "3    64.0\n",
       "4    23.0\n",
       "Name: Age, dtype: float64"
      ]
     },
     "execution_count": 11,
     "metadata": {},
     "output_type": "execute_result"
    }
   ],
   "source": [
    "td['Age'] = td['Age'].apply(lambda x: x*100)\n",
    "td['Age'].head()"
   ]
  },
  {
   "cell_type": "markdown",
   "metadata": {},
   "source": [
    "## 2. INFERENTIAL STATISTICS"
   ]
  },
  {
   "cell_type": "markdown",
   "metadata": {},
   "source": [
    "### 2.1 Heatmap generation to find correlation"
   ]
  },
  {
   "cell_type": "code",
   "execution_count": 12,
   "metadata": {},
   "outputs": [
    {
     "data": {
      "text/plain": [
       "Text(0.5, 1.0, 'Heat map for correlation between the features.')"
      ]
     },
     "execution_count": 12,
     "metadata": {},
     "output_type": "execute_result"
    },
    {
     "data": {
      "image/png": "[encoded data removed]",
      "text/plain": [
       "<Figure size 720x576 with 2 Axes>"
      ]
     },
     "metadata": {
      "needs_background": "light"
     },
     "output_type": "display_data"
    }
   ],
   "source": [
    "f, ax = plt.subplots(figsize=(10,8))\n",
    "corr = td.corr()\n",
    "cmap = sns.color_palette(\"viridis\")\n",
    "sns.heatmap(corr, cmap=cmap)\n",
    "ax.set_title('Heat map for correlation between the features.', fontsize=20)"
   ]
  },
  {
   "cell_type": "markdown",
   "metadata": {},
   "source": [
    "### 2.4 Correlation value between TSH and T3"
   ]
  },
  {
   "cell_type": "code",
   "execution_count": 17,
   "metadata": {},
   "outputs": [
    {
     "name": "stdout",
     "output_type": "stream",
     "text": [
      "correlation between TSH measured and T3 measured is -0.16142756734616626 , and it is negative correlation.\n"
     ]
    }
   ],
   "source": [
    "tsh = td['TSH']\n",
    "t3 = td['T3']\n",
    "corr_tsh_t3 = tsh.corr(t3)\n",
    "print('correlation between TSH measured and T3 measured is', corr_tsh_t3,', and it is',\n",
    "      'positive' if(corr_tsh_t3 > 0.0) else 'negative','correlation.')"
   ]
  },
  {
   "cell_type": "markdown",
   "metadata": {},
   "source": [
    "## 3. EXPLORATORY DATA ANALYSIS"
   ]
  },
  {
   "cell_type": "markdown",
   "metadata": {},
   "source": [
    "### 3.1 Number of samples in each class"
   ]
  },
  {
   "cell_type": "code",
   "execution_count": 18,
   "metadata": {},
   "outputs": [
    {
     "name": "stdout",
     "output_type": "stream",
     "text": [
      "Class   Count\n"
     ]
    },
    {
     "data": {
      "text/plain": [
       "3    3487\n",
       "2     191\n",
       "1      93\n",
       "Name: Class, dtype: int64"
      ]
     },
     "execution_count": 18,
     "metadata": {},
     "output_type": "execute_result"
    }
   ],
   "source": [
    "print(\"Class   Count\")\n",
    "td['Class'].value_counts()"
   ]
  },
  {
   "cell_type": "code",
   "execution_count": 19,
   "metadata": {},
   "outputs": [
    {
     "data": {
      "text/plain": [
       "<matplotlib.axes._subplots.AxesSubplot at 0x197ee208d30>"
      ]
     },
     "execution_count": 19,
     "metadata": {},
     "output_type": "execute_result"
    },
    {
     "data": {
      "image/png": "[encoded data removed]",
      "text/plain": [
       "<Figure size 432x288 with 1 Axes>"
      ]
     },
     "metadata": {
      "needs_background": "light"
     },
     "output_type": "display_data"
    }
   ],
   "source": [
    "sns.countplot('Class',data=td)"
   ]
  },
  {
   "cell_type": "code",
   "execution_count": 20,
   "metadata": {
    "scrolled": true
   },
   "outputs": [
    {
     "data": {
      "image/png": "[encoded data removed]",
      "text/plain": [
       "<Figure size 432x432 with 1 Axes>"
      ]
     },
     "metadata": {},
     "output_type": "display_data"
    }
   ],
   "source": [
    "plt.figure(figsize=(6,6))\n",
    "classes = ['Normal','hyperthyroid','Hypothyroid']\n",
    "class_cnt = td['Age'].groupby(td['Class']).count()\n",
    "plt.axis('equal')\n",
    "plt.pie(class_cnt, startangle=45, labels=classes,autopct='%1.1f%%',shadow=False, explode=(0.1,0.1,0))\n",
    "plt.legend(classes, loc=4)\n",
    "plt.title('Class')\n",
    "plt.show()"
   ]
  },
  {
   "cell_type": "markdown",
   "metadata": {},
   "source": [
    "### 3.2 Count of male and female grouped by class"
   ]
  },
  {
   "cell_type": "code",
   "execution_count": 21,
   "metadata": {},
   "outputs": [
    {
     "data": {
      "image/png": "[encoded data removed]",
      "text/plain": [
       "<Figure size 360x360 with 1 Axes>"
      ]
     },
     "metadata": {
      "needs_background": "light"
     },
     "output_type": "display_data"
    }
   ],
   "source": [
    "ct2 = pd.crosstab(index=td['Class'],columns=td['Sex'])\n",
    "ct2.plot(kind='bar',figsize=(5,5), stacked=False).legend(('Female','Male'))\n",
    "plt.title('Number of male and female grouped by class')\n",
    "plt.ylabel('Number of people')\n",
    "plt.show()"
   ]
  },
  {
   "cell_type": "code",
   "execution_count": 22,
   "metadata": {},
   "outputs": [
    {
     "data": {
      "image/png": "[encoded data removed]",
      "text/plain": [
       "<Figure size 720x360 with 1 Axes>"
      ]
     },
     "metadata": {
      "needs_background": "light"
     },
     "output_type": "display_data"
    },
    {
     "name": "stdout",
     "output_type": "stream",
     "text": [
      "Number of Female suffering from hyperthyroid: (2408, 22)\n",
      "Number of Male suffering from hyperthyroid: (1079, 22)\n"
     ]
    }
   ],
   "source": [
    "fig,ax = plt.subplots(figsize=(10,5))\n",
    "female_thyr = td.loc[(td['Sex']==0) & (td['Class']==3)]\n",
    "male_thyr = td.loc[(td['Sex']==1) & (td['Class']==3)]\n",
    "sns.distplot(female_thyr['Age'], bins=100, kde=False, label=\"Female\")\n",
    "sns.distplot(male_thyr['Age'], bins=100, kde=False, label=\"Male\")\n",
    "plt.legend()\n",
    "plt.ylabel('Number of people suffering with hyperthyroid')\n",
    "plt.title('Age vs Number of people having hyperthyroid')\n",
    "plt.show()\n",
    "\n",
    "print(\"Number of Female suffering from hyperthyroid:\",female_thyr.shape)\n",
    "print(\"Number of Male suffering from hyperthyroid:\",male_thyr.shape)"
   ]
  },
  {
   "cell_type": "code",
   "execution_count": 23,
   "metadata": {},
   "outputs": [
    {
     "data": {
      "text/plain": [
       "<matplotlib.axes._subplots.AxesSubplot at 0x197ee468130>"
      ]
     },
     "execution_count": 23,
     "metadata": {},
     "output_type": "execute_result"
    },
    {
     "data": {
      "image/png": "[encoded data removed]",
      "text/plain": [
       "<Figure size 432x288 with 1 Axes>"
      ]
     },
     "metadata": {
      "needs_background": "light"
     },
     "output_type": "display_data"
    }
   ],
   "source": [
    "td.Age.plot.hist(bins=50)"
   ]
  },
  {
   "cell_type": "markdown",
   "metadata": {},
   "source": [
    "### 3.3 Plotting of Class vs Age with respect to Gender"
   ]
  },
  {
   "cell_type": "code",
   "execution_count": 24,
   "metadata": {},
   "outputs": [
    {
     "data": {
      "text/plain": [
       "<matplotlib.axes._subplots.AxesSubplot at 0x197ee6b59a0>"
      ]
     },
     "execution_count": 24,
     "metadata": {},
     "output_type": "execute_result"
    },
    {
     "data": {
      "image/png": "[encoded data removed]",
      "text/plain": [
       "<Figure size 432x288 with 1 Axes>"
      ]
     },
     "metadata": {
      "needs_background": "light"
     },
     "output_type": "display_data"
    }
   ],
   "source": [
    "sns.barplot(x='Class',y='Age',hue=\"Sex\",data=td, palette=(\"rainbow_r\"))"
   ]
  },
  {
   "cell_type": "code",
   "execution_count": 25,
   "metadata": {},
   "outputs": [
    {
     "data": {
      "text/plain": [
       "<matplotlib.axes._subplots.AxesSubplot at 0x197ee66c5b0>"
      ]
     },
     "execution_count": 25,
     "metadata": {},
     "output_type": "execute_result"
    },
    {
     "data": {
      "image/png": "[encoded data removed]",
      "text/plain": [
       "<Figure size 432x288 with 1 Axes>"
      ]
     },
     "metadata": {
      "needs_background": "light"
     },
     "output_type": "display_data"
    }
   ],
   "source": [
    "sns.boxplot(x='Class',y='Age',data=td, palette=(\"viridis\"))"
   ]
  },
  {
   "cell_type": "markdown",
   "metadata": {},
   "source": [
    "### 3.5 Check for other factors which affects thyroid"
   ]
  },
  {
   "cell_type": "code",
   "execution_count": 26,
   "metadata": {},
   "outputs": [
    {
     "name": "stdout",
     "output_type": "stream",
     "text": [
      "\u001b[1mSICK\u001b[0m\n"
     ]
    },
    {
     "data": {
      "text/plain": [
       "0    3626\n",
       "1     145\n",
       "Name: Sick, dtype: int64"
      ]
     },
     "execution_count": 26,
     "metadata": {},
     "output_type": "execute_result"
    }
   ],
   "source": [
    "class color:\n",
    "    BOLD = '\\033[1m'\n",
    "    END = '\\033[0m'\n",
    "\n",
    "print(color.BOLD + 'SICK' + color.END)\n",
    "td['Sick'].value_counts()\n"
   ]
  },
  {
   "cell_type": "code",
   "execution_count": 27,
   "metadata": {},
   "outputs": [
    {
     "name": "stdout",
     "output_type": "stream",
     "text": [
      "\u001b[1mGOITER\u001b[0m\n"
     ]
    },
    {
     "data": {
      "text/plain": [
       "0    3738\n",
       "1      33\n",
       "Name: Goiter, dtype: int64"
      ]
     },
     "execution_count": 27,
     "metadata": {},
     "output_type": "execute_result"
    }
   ],
   "source": [
    "print(color.BOLD + 'GOITER' + color.END)\n",
    "td['Goiter'].value_counts()\n"
   ]
  },
  {
   "cell_type": "code",
   "execution_count": 28,
   "metadata": {},
   "outputs": [
    {
     "name": "stdout",
     "output_type": "stream",
     "text": [
      "\u001b[1mTUMOR\u001b[0m\n"
     ]
    },
    {
     "data": {
      "text/plain": [
       "0    3676\n",
       "1      95\n",
       "Name: Tumor, dtype: int64"
      ]
     },
     "execution_count": 28,
     "metadata": {},
     "output_type": "execute_result"
    }
   ],
   "source": [
    "print(color.BOLD + 'TUMOR' + color.END)\n",
    "td['Tumor'].value_counts()\n"
   ]
  },
  {
   "cell_type": "code",
   "execution_count": 29,
   "metadata": {},
   "outputs": [
    {
     "name": "stdout",
     "output_type": "stream",
     "text": [
      "\u001b[1mTHYROID SURGERY\u001b[0m\n"
     ]
    },
    {
     "data": {
      "text/plain": [
       "0    3717\n",
       "1      54\n",
       "Name: Thyroid_surgery, dtype: int64"
      ]
     },
     "execution_count": 29,
     "metadata": {},
     "output_type": "execute_result"
    }
   ],
   "source": [
    "print(color.BOLD + 'THYROID SURGERY' + color.END)\n",
    "td['Thyroid_surgery'].value_counts()\n"
   ]
  },
  {
   "cell_type": "code",
   "execution_count": 30,
   "metadata": {},
   "outputs": [
    {
     "name": "stdout",
     "output_type": "stream",
     "text": [
      "\u001b[1mPSYCH\u001b[0m\n"
     ]
    },
    {
     "data": {
      "text/plain": [
       "0    3585\n",
       "1     186\n",
       "Name: Psych, dtype: int64"
      ]
     },
     "execution_count": 30,
     "metadata": {},
     "output_type": "execute_result"
    }
   ],
   "source": [
    "print(color.BOLD + 'PSYCH' + color.END)\n",
    "td['Psych'].value_counts()\n"
   ]
  },
  {
   "cell_type": "code",
   "execution_count": 31,
   "metadata": {},
   "outputs": [
    {
     "name": "stdout",
     "output_type": "stream",
     "text": [
      "\u001b[1mPREGNANT\u001b[0m\n"
     ]
    },
    {
     "data": {
      "text/plain": [
       "0    3718\n",
       "1      53\n",
       "Name: Pregnant, dtype: int64"
      ]
     },
     "execution_count": 31,
     "metadata": {},
     "output_type": "execute_result"
    }
   ],
   "source": [
    "print(color.BOLD + 'PREGNANT' + color.END)\n",
    "td['Pregnant'].value_counts()"
   ]
  },
  {
   "cell_type": "code",
   "execution_count": 32,
   "metadata": {},
   "outputs": [
    {
     "data": {
      "image/png": "[encoded data removed]",
      "text/plain": [
       "<Figure size 1440x576 with 6 Axes>"
      ]
     },
     "metadata": {
      "needs_background": "light"
     },
     "output_type": "display_data"
    }
   ],
   "source": [
    "x_colname = ['Sick','Goiter','Tumor', 'Thyroid_surgery', 'Psych','Pregnant']\n",
    "f, ax = plt.subplots(1,len(x_colname),figsize=(20,8), sharex=False, sharey=False)\n",
    "for i in range(len(x_colname)):\n",
    "    sns.countplot(x=x_colname[i], data=td, ax=ax[i], hue='Sex',palette='magma').legend(('Female','Male'))\n",
    "    ax[i].set_title(str(x_colname[i]) +\" vs Gender\", fontsize=16)\n",
    "plt.tight_layout()"
   ]
  },
  {
   "cell_type": "markdown",
   "metadata": {},
   "source": [
    "## 4. DATA PREPROCESSING"
   ]
  },
  {
   "cell_type": "code",
   "execution_count": 33,
   "metadata": {},
   "outputs": [
    {
     "data": {
      "text/plain": [
       "Index(['Age', 'Sex', 'On_thyroxine', 'Query_on_thyroxine',\n",
       "       'On_antithyroid_medication', 'Sick', 'Pregnant', 'Thyroid_surgery',\n",
       "       'I131_treatment', '. Query_hypothyroid', 'Query_hyperthyroid',\n",
       "       'Lithium', 'Goiter', 'Tumor', 'Hypopituitary', 'Psych', 'TSH', 'T3',\n",
       "       'TT4', 'T4U', 'FTI', 'Class'],\n",
       "      dtype='object')"
      ]
     },
     "execution_count": 33,
     "metadata": {},
     "output_type": "execute_result"
    }
   ],
   "source": [
    "td.keys()"
   ]
  },
  {
   "cell_type": "markdown",
   "metadata": {},
   "source": [
    "### 4.1 Standardisation of training data"
   ]
  },
  {
   "cell_type": "code",
   "execution_count": 34,
   "metadata": {},
   "outputs": [],
   "source": [
    "from sklearn.preprocessing import StandardScaler"
   ]
  },
  {
   "cell_type": "code",
   "execution_count": 35,
   "metadata": {},
   "outputs": [
    {
     "data": {
      "text/plain": [
       "StandardScaler()"
      ]
     },
     "execution_count": 35,
     "metadata": {},
     "output_type": "execute_result"
    }
   ],
   "source": [
    "sc=StandardScaler()\n",
    "sc.fit(td)"
   ]
  },
  {
   "cell_type": "code",
   "execution_count": 36,
   "metadata": {},
   "outputs": [],
   "source": [
    "scaled_data=sc.transform(td)"
   ]
  },
  {
   "cell_type": "code",
   "execution_count": 37,
   "metadata": {},
   "outputs": [
    {
     "data": {
      "text/plain": [
       "array([[ 1.1338765 , -0.65949337,  2.66639784, ..., -0.92873586,\n",
       "         1.07022073,  0.26785839],\n",
       "       [-1.45153487, -0.65949337, -0.37503781, ...,  1.81156284,\n",
       "        -0.0643462 ,  0.26785839],\n",
       "       [-0.23797443, -0.65949337, -0.37503781, ...,  1.70410015,\n",
       "        -0.96005694,  0.26785839],\n",
       "       ...,\n",
       "       [ 1.92532896, -0.65949337, -0.37503781, ..., -0.01530296,\n",
       "         0.41336619, -2.41143599],\n",
       "       [ 0.65900503,  1.51631547, -0.37503781, ..., -0.60634778,\n",
       "         0.32379511,  0.26785839],\n",
       "       [-0.29073792, -0.65949337, -0.37503781, ..., -0.44515374,\n",
       "        -0.24348835,  0.26785839]])"
      ]
     },
     "execution_count": 37,
     "metadata": {},
     "output_type": "execute_result"
    }
   ],
   "source": [
    "scaled_data"
   ]
  },
  {
   "cell_type": "code",
   "execution_count": 38,
   "metadata": {},
   "outputs": [
    {
     "data": {
      "text/plain": [
       "array([[ 1.00026525e+00,  5.50661561e-03,  1.84208865e-02,\n",
       "        -1.42122021e-02, -6.64285165e-02,  8.39970530e-02,\n",
       "        -1.18897844e-01, -2.93978422e-02,  5.78029897e-02,\n",
       "         4.29648642e-02, -3.89878979e-02, -2.91946542e-02,\n",
       "        -5.18186253e-02, -2.48700961e-02, -2.62254694e-02,\n",
       "        -1.05020496e-01, -5.32677640e-02, -2.26534315e-01,\n",
       "        -4.01571369e-02, -1.70497251e-01,  5.92627009e-02,\n",
       "         4.85037886e-03],\n",
       "       [ 5.50661561e-03,  1.00026525e+00, -9.81977648e-02,\n",
       "         3.64277627e-02, -2.73606428e-02,  6.15342850e-03,\n",
       "        -7.87605715e-02, -3.57903022e-02, -2.02302628e-02,\n",
       "        -4.28838926e-02, -6.32170724e-02, -6.18643993e-03,\n",
       "         6.18189408e-03, -7.29014847e-02,  2.47021112e-02,\n",
       "         9.76085220e-02, -3.18646897e-02, -6.25013214e-02,\n",
       "        -1.68664088e-01, -2.15445628e-01, -5.21299378e-02,\n",
       "         4.37140316e-02],\n",
       "       [ 1.84208865e-02, -9.81977648e-02,  1.00026525e+00,\n",
       "        -3.00364209e-04, -2.29704738e-03, -4.14521692e-02,\n",
       "         1.00373645e-02,  4.30604124e-02,  5.93189888e-02,\n",
       "         9.41192874e-02, -2.55427950e-02, -3.90685768e-03,\n",
       "        -1.79234773e-02, -2.94181155e-02, -6.10969540e-03,\n",
       "        -7.42713332e-02,  1.86481680e-02,  7.77678890e-03,\n",
       "         2.11536345e-01,  4.91806919e-02,  1.82044652e-01,\n",
       "         6.15764475e-02],\n",
       "       [-1.42122021e-02,  3.64277627e-02, -3.00364209e-04,\n",
       "         1.00026525e+00, -1.23259759e-02,  1.35927331e-02,\n",
       "         4.59889561e-02,  5.88150296e-03, -1.42180984e-02,\n",
       "        -2.95199377e-02, -9.88984875e-03, -8.16714796e-03,\n",
       "         1.43647489e-02, -3.50373837e-03,  1.41982445e-01,\n",
       "        -2.61418868e-02, -1.40518283e-02, -6.11869718e-03,\n",
       "        -1.09954385e-02,  2.39677582e-03, -1.18039551e-02,\n",
       "         1.19153247e-02],\n",
       "       [-6.64285165e-02, -2.73606428e-02, -2.29704738e-03,\n",
       "        -1.23259759e-02,  1.00026525e+00, -2.14823387e-02,\n",
       "         7.20659238e-02, -1.29482793e-02,  7.16734907e-03,\n",
       "        -1.72757627e-02,  1.28452369e-01, -7.64463657e-03,\n",
       "        -1.00936625e-02, -1.72697285e-02, -1.74960811e-03,\n",
       "        -2.44694017e-02, -1.05396354e-02,  7.89354021e-02,\n",
       "         2.49706098e-02,  6.07760448e-02, -1.42261875e-02,\n",
       "         2.20814345e-02],\n",
       "       [ 8.39970530e-02,  6.15342850e-03, -4.14521692e-02,\n",
       "         1.35927331e-02, -2.14823387e-02,  1.00026525e+00,\n",
       "        -2.38818808e-02, -8.86781468e-04, -2.47800262e-02,\n",
       "         2.86039237e-02, -3.39909560e-02, -1.42341215e-02,\n",
       "        -1.87941464e-02,  1.18585459e-02, -3.25772641e-03,\n",
       "        -3.28204343e-02, -2.11488713e-02, -7.37214691e-02,\n",
       "        -3.72529581e-02, -3.81946385e-02, -2.13068711e-02,\n",
       "         1.29219595e-02],\n",
       "       [-1.18897844e-01, -7.87605715e-02,  1.00373645e-02,\n",
       "         4.59889561e-02,  7.20659238e-02, -2.38818808e-02,\n",
       "         1.00026525e+00, -1.43945809e-02, -1.47949977e-02,\n",
       "        -2.13775639e-02,  1.19465163e-01, -8.49852996e-03,\n",
       "         1.29726018e-02,  1.24591552e-01, -1.94503647e-03,\n",
       "        -1.67967324e-02, -1.95701434e-02,  1.80110484e-01,\n",
       "         1.72892907e-01,  3.34273385e-01, -1.44076301e-02,\n",
       "         3.19892218e-02],\n",
       "       [-2.93978422e-02, -3.57903022e-02,  4.30604124e-02,\n",
       "         5.88150296e-03, -1.29482793e-02, -8.86781468e-04,\n",
       "        -1.43945809e-02,  1.00026525e+00,  3.36276779e-03,\n",
       "        -1.25013094e-02,  1.55896219e-02, -8.57948397e-03,\n",
       "        -1.13279964e-02, -5.13442630e-03, -1.96356420e-03,\n",
       "        -2.74617161e-02,  2.71700039e-02, -2.59176804e-02,\n",
       "        -2.51390478e-02,  2.91056491e-02, -2.93444709e-02,\n",
       "         8.36615772e-03],\n",
       "       [ 5.78029897e-02, -2.02302628e-02,  5.93189888e-02,\n",
       "        -1.42180984e-02,  7.16734907e-03, -2.47800262e-02,\n",
       "        -1.47949977e-02,  3.36276779e-03,  1.00026525e+00,\n",
       "         4.02175363e-02,  5.87476334e-02, -8.81814115e-03,\n",
       "        -1.16431095e-02, -1.99207512e-02, -2.01818505e-03,\n",
       "        -2.82256240e-02, -1.96903105e-03,  6.93795687e-03,\n",
       "        -1.12942438e-02,  8.03265270e-03, -1.42755943e-02,\n",
       "        -7.58097840e-03],\n",
       "       [ 4.29648642e-02, -4.28838926e-02,  9.41192874e-02,\n",
       "        -2.95199377e-02, -1.72757627e-02,  2.86039237e-02,\n",
       "        -2.13775639e-02, -1.25013094e-02,  4.02175363e-02,\n",
       "         1.00026525e+00,  1.64901614e-02, -2.77961906e-03,\n",
       "        -2.41736874e-02, -3.43437994e-02, -4.19020148e-03,\n",
       "        -1.29056769e-02,  2.81239558e-02, -5.16233961e-02,\n",
       "        -1.04171628e-02,  1.45539174e-02, -1.99013973e-02,\n",
       "        -7.54319577e-02],\n",
       "       [-3.89878979e-02, -6.32170724e-02, -2.55427950e-02,\n",
       "        -9.88984875e-03,  1.28452369e-01, -3.39909560e-02,\n",
       "         1.19465163e-01,  1.55896219e-02,  5.87476334e-02,\n",
       "         1.64901614e-02,  1.00026525e+00,  1.29575140e-02,\n",
       "        -2.40633570e-02,  5.04047642e-02, -4.17107711e-03,\n",
       "        -5.83352127e-02, -8.07705046e-03,  1.63659374e-01,\n",
       "         1.25299549e-01,  7.84682438e-02,  9.13451501e-02,\n",
       "         1.53617453e-02],\n",
       "       [-2.91946542e-02, -6.18643993e-03, -3.90685768e-03,\n",
       "        -8.16714796e-03, -7.64463657e-03, -1.42341215e-02,\n",
       "        -8.49852996e-03, -8.57948397e-03, -8.81814115e-03,\n",
       "        -2.77961906e-03,  1.29575140e-02,  1.00026525e+00,\n",
       "        -6.68802502e-03, -1.14428609e-02, -1.15928414e-03,\n",
       "         3.56886143e-02, -6.17852635e-03,  1.03800284e-02,\n",
       "        -1.42727416e-02,  1.62221668e-02, -2.46021468e-02,\n",
       "         9.02873094e-03],\n",
       "       [-5.18186253e-02,  6.18189408e-03, -1.79234773e-02,\n",
       "         1.43647489e-02, -1.00936625e-02, -1.87941464e-02,\n",
       "         1.29726018e-02, -1.13279964e-02, -1.16431095e-02,\n",
       "        -2.41736874e-02, -2.40633570e-02, -6.68802502e-03,\n",
       "         1.00026525e+00,  3.06511043e-03, -1.53067091e-03,\n",
       "        -8.25535530e-03, -1.36240043e-02,  9.39481286e-03,\n",
       "        -1.78226142e-02,  3.92667872e-02, -3.85120623e-02,\n",
       "         2.51743204e-02],\n",
       "       [-2.48700961e-02, -7.29014847e-02, -2.94181155e-02,\n",
       "        -3.50373837e-03, -1.72697285e-02,  1.18585459e-02,\n",
       "         1.24591552e-01, -5.13442630e-03, -1.99207512e-02,\n",
       "        -3.43437994e-02,  5.04047642e-02, -1.14428609e-02,\n",
       "         3.06511043e-03,  1.00026525e+00, -2.61889785e-03,\n",
       "        -2.09936653e-02, -1.55379056e-02,  9.35432300e-02,\n",
       "         5.56762746e-02,  8.96696331e-02,  6.76044062e-03,\n",
       "        -2.27897071e-03],\n",
       "       [-2.62254694e-02,  2.47021112e-02, -6.10969540e-03,\n",
       "         1.41982445e-01, -1.74960811e-03, -3.25772641e-03,\n",
       "        -1.94503647e-03, -1.96356420e-03, -2.01818505e-03,\n",
       "        -4.19020148e-03, -4.17107711e-03, -1.15928414e-03,\n",
       "        -1.53067091e-03, -2.61889785e-03,  1.00026525e+00,\n",
       "        -3.71070474e-03, -3.15367318e-03, -1.57877255e-02,\n",
       "        -2.56421343e-02,  6.75334814e-03, -2.87728943e-02,\n",
       "         4.36364848e-03],\n",
       "       [-1.05020496e-01,  9.76085220e-02, -7.42713332e-02,\n",
       "        -2.61418868e-02, -2.44694017e-02, -3.28204343e-02,\n",
       "        -1.67967324e-02, -2.74617161e-02, -2.82256240e-02,\n",
       "        -1.29056769e-02, -5.83352127e-02,  3.56886143e-02,\n",
       "        -8.25535530e-03, -2.09936653e-02, -3.71070474e-03,\n",
       "         1.00026525e+00, -2.75532267e-02,  2.43598952e-02,\n",
       "         1.96212416e-03, -1.67817530e-02,  8.60537657e-03,\n",
       "         3.47726906e-02],\n",
       "       [-5.32677640e-02, -3.18646897e-02,  1.86481680e-02,\n",
       "        -1.40518283e-02, -1.05396354e-02, -2.11488713e-02,\n",
       "        -1.95701434e-02,  2.71700039e-02, -1.96903105e-03,\n",
       "         2.81239558e-02, -8.07705046e-03, -6.17852635e-03,\n",
       "        -1.36240043e-02, -1.55379056e-02, -3.15367318e-03,\n",
       "        -2.75532267e-02,  1.00026525e+00, -1.61470386e-01,\n",
       "        -2.61738373e-01,  7.20670745e-02, -2.86932364e-01,\n",
       "        -5.56279085e-01],\n",
       "       [-2.26534315e-01, -6.25013214e-02,  7.77678890e-03,\n",
       "        -6.11869718e-03,  7.89354021e-02, -7.37214691e-02,\n",
       "         1.80110484e-01, -2.59176804e-02,  6.93795687e-03,\n",
       "        -5.16233961e-02,  1.63659374e-01,  1.03800284e-02,\n",
       "         9.39481286e-03,  9.35432300e-02, -1.57877255e-02,\n",
       "         2.43598952e-02, -1.61470386e-01,  1.00026525e+00,\n",
       "         5.13219534e-01,  3.93082666e-01,  3.19196642e-01,\n",
       "         2.37550430e-01],\n",
       "       [-4.01571369e-02, -1.68664088e-01,  2.11536345e-01,\n",
       "        -1.09954385e-02,  2.49706098e-02, -3.72529581e-02,\n",
       "         1.72892907e-01, -2.51390478e-02, -1.12942438e-02,\n",
       "        -1.04171628e-02,  1.25299549e-01, -1.42727416e-02,\n",
       "        -1.78226142e-02,  5.56762746e-02, -2.56421343e-02,\n",
       "         1.96212416e-03, -2.61738373e-01,  5.13219534e-01,\n",
       "         1.00026525e+00,  4.20932808e-01,  7.71562034e-01,\n",
       "         3.51294727e-01],\n",
       "       [-1.70497251e-01, -2.15445628e-01,  4.91806919e-02,\n",
       "         2.39677582e-03,  6.07760448e-02, -3.81946385e-02,\n",
       "         3.34273385e-01,  2.91056491e-02,  8.03265270e-03,\n",
       "         1.45539174e-02,  7.84682438e-02,  1.62221668e-02,\n",
       "         3.92667872e-02,  8.96696331e-02,  6.75334814e-03,\n",
       "        -1.67817530e-02,  7.20670745e-02,  3.93082666e-01,\n",
       "         4.20932808e-01,  1.00026525e+00, -1.87821524e-01,\n",
       "        -3.66827825e-02],\n",
       "       [ 5.92627009e-02, -5.21299378e-02,  1.82044652e-01,\n",
       "        -1.18039551e-02, -1.42261875e-02, -2.13068711e-02,\n",
       "        -1.44076301e-02, -2.93444709e-02, -1.42755943e-02,\n",
       "        -1.99013973e-02,  9.13451501e-02, -2.46021468e-02,\n",
       "        -3.85120623e-02,  6.76044062e-03, -2.87728943e-02,\n",
       "         8.60537657e-03, -2.86932364e-01,  3.19196642e-01,\n",
       "         7.71562034e-01, -1.87821524e-01,  1.00026525e+00,\n",
       "         3.77433767e-01],\n",
       "       [ 4.85037886e-03,  4.37140316e-02,  6.15764475e-02,\n",
       "         1.19153247e-02,  2.20814345e-02,  1.29219595e-02,\n",
       "         3.19892218e-02,  8.36615772e-03, -7.58097840e-03,\n",
       "        -7.54319577e-02,  1.53617453e-02,  9.02873094e-03,\n",
       "         2.51743204e-02, -2.27897071e-03,  4.36364848e-03,\n",
       "         3.47726906e-02, -5.56279085e-01,  2.37550430e-01,\n",
       "         3.51294727e-01, -3.66827825e-02,  3.77433767e-01,\n",
       "         1.00026525e+00]])"
      ]
     },
     "execution_count": 38,
     "metadata": {},
     "output_type": "execute_result"
    }
   ],
   "source": [
    "sc_covariancematrix = np.cov(scaled_data.T)\n",
    "sc_covariancematrix\n"
   ]
  },
  {
   "cell_type": "code",
   "execution_count": 39,
   "metadata": {},
   "outputs": [
    {
     "name": "stdout",
     "output_type": "stream",
     "text": [
      "Eigenvalues \n",
      "[2.75840329 1.84131166 0.03184879 0.4549762  0.42443646 1.37366296\n",
      " 0.67225989 0.77162856 1.16527753 1.13633911 1.11263212 0.81080759\n",
      " 0.83634214 0.86923818 0.88265198 0.9083053  0.92410816 1.0371256\n",
      " 0.97866435 0.98924247 1.01750274 1.00907048]\n",
      "\n",
      "Eigenvector\n",
      "[[-8.36009743e-02 -2.87918756e-01 -4.91857724e-04 -2.14964364e-01\n",
      "  -7.45808335e-03  3.49356527e-01  1.90585810e-01  4.11443059e-01\n",
      "   1.93882486e-01  2.20252001e-01 -1.52205853e-01  5.12768482e-01\n",
      "   2.58163582e-01  1.80526479e-01 -6.72730156e-02  4.57254964e-02\n",
      "   1.42842789e-01  9.74247197e-02  5.57907910e-02 -1.41164248e-01\n",
      "   6.86935249e-02 -2.19357987e-02]\n",
      " [-1.16320361e-01 -2.31193669e-01 -7.88901915e-03  1.65665399e-01\n",
      "   2.39792355e-02 -3.65839200e-01  1.00002489e-01  2.87499308e-01\n",
      "  -5.65754253e-02 -7.17026578e-03  1.77751006e-01  2.47476376e-01\n",
      "  -5.11927971e-01 -1.63989694e-01 -4.68141234e-01 -1.13348668e-01\n",
      "  -4.19392911e-03  9.96378061e-02 -1.83388784e-01  3.27628350e-02\n",
      "   1.52563436e-02 -1.28452593e-01]\n",
      " [ 1.28580738e-01 -2.54215944e-02 -1.22175831e-02 -1.44702800e-01\n",
      "   1.07628958e-01  4.52181576e-01  3.67358890e-01 -2.78449524e-01\n",
      "  -1.94506067e-02 -3.70031588e-01  1.34046511e-01  1.68467037e-01\n",
      "  -1.65535525e-01 -4.68976639e-01 -1.23130604e-01  2.60140704e-01\n",
      "  -1.21064775e-02 -1.02630398e-01  7.05584825e-02  5.54063141e-02\n",
      "   2.41225479e-02 -7.55919825e-03]\n",
      " [-2.57154904e-03  4.92003167e-03  9.39514945e-04  2.20712076e-03\n",
      "  -8.84632875e-03 -1.43430109e-01  6.59070882e-02  1.10781345e-01\n",
      "   5.82758271e-01 -2.78928467e-01  1.92512815e-01 -3.26415540e-01\n",
      "   4.47225193e-01 -1.38574805e-01 -3.93035020e-01 -7.25278091e-02\n",
      "   7.50380857e-02  1.00929375e-01  5.53662913e-02 -2.96022607e-02\n",
      "  -4.75484022e-02 -2.66450237e-02]\n",
      " [ 5.89390075e-02  1.32535376e-01 -1.83000879e-03  3.23310976e-02\n",
      "   5.46058461e-03 -6.38334895e-02 -8.59935480e-02  3.49613463e-01\n",
      "  -4.78657083e-03  3.98652896e-01  4.35360697e-01  1.16203458e-02\n",
      "   1.13861001e-01 -3.36080554e-01  1.97763087e-01  3.33431076e-01\n",
      "   2.50017859e-02 -7.18483148e-02  2.00195501e-01  4.14477315e-01\n",
      "  -3.11588372e-02 -2.70757743e-02]\n",
      " [-4.61790072e-02 -9.32802408e-02 -1.94493791e-03 -2.97491764e-02\n",
      "   2.26511820e-02  6.18915721e-02  4.01786977e-03 -1.28291980e-01\n",
      "   2.67572697e-01  1.95940909e-01 -3.75808547e-01 -1.45382182e-02\n",
      "  -1.08153262e-01 -3.76500314e-01  1.33612235e-01 -4.10100153e-01\n",
      "   1.85532628e-01  2.20838218e-01 -1.11775503e-01  4.56937553e-01\n",
      "   1.31939385e-02  2.68126549e-01]\n",
      " [ 1.74316565e-01  3.56427296e-01  1.55199614e-02 -1.59055803e-01\n",
      "   2.26762686e-02 -1.07453028e-01 -5.04998965e-01 -3.00051028e-01\n",
      "   1.81239354e-01  1.03210436e-01 -1.05737554e-01  4.11270138e-01\n",
      "   1.46983560e-02  2.60157346e-03 -3.58004043e-01  2.69262180e-01\n",
      "   7.83658270e-02  7.23474160e-02 -1.05476908e-01  2.84097705e-02\n",
      "   1.04962314e-01  2.96369131e-02]\n",
      " [-1.37075926e-02  4.39263758e-02  1.21629858e-02 -2.27228897e-02\n",
      "   4.68021516e-02  8.95313819e-02 -1.12998482e-01  2.02327133e-01\n",
      "   6.73361889e-02 -1.14418585e-01  4.97708521e-02  1.30245884e-01\n",
      "   4.79467408e-02  3.54655651e-02 -6.00684807e-02 -1.18220019e-01\n",
      "  -1.61349775e-01 -6.06504253e-01 -3.63958274e-01  8.23564068e-02\n",
      "  -3.91663211e-01  4.34246294e-01]\n",
      " [-1.88548205e-04  5.24454092e-03  3.00463722e-03  4.42229752e-02\n",
      "  -1.42514615e-02  2.23177485e-01 -1.73456793e-01  2.73711990e-02\n",
      "   8.98816997e-03  1.46086939e-01  3.43061083e-01 -1.37992965e-01\n",
      "  -1.66551239e-02 -2.16998075e-01  1.28318773e-01 -1.22744590e-01\n",
      "   3.04313388e-01 -3.30739211e-02 -4.64654316e-01 -4.21970646e-01\n",
      "   4.29858049e-01  8.75560026e-02]\n",
      " [-3.37158708e-02  2.16348698e-02  2.29168239e-03 -2.77459691e-02\n",
      "  -6.19256016e-02  3.36334649e-01 -1.16463249e-01  1.80565426e-01\n",
      "  -7.12183196e-02 -1.03109254e-01  7.97300024e-02 -1.69505826e-01\n",
      "  -1.62687215e-02  1.98156875e-01 -1.62218379e-01  6.68254407e-02\n",
      "  -5.57158848e-01  3.54335758e-01 -2.07184754e-01  3.15117261e-01\n",
      "   3.24741627e-01  1.72428164e-01]\n",
      " [ 1.36551069e-01  1.62997144e-01 -1.25937371e-03  7.49441967e-02\n",
      "  -1.92573353e-02  5.91591617e-02  3.21829286e-01 -3.63754241e-01\n",
      "   4.32693754e-02  4.61729446e-01  3.63996428e-01  1.67200547e-01\n",
      "   1.08451134e-01  8.57320704e-02 -1.44419724e-01 -4.02409986e-01\n",
      "  -3.20864194e-01  5.69663202e-02  4.54865696e-02 -9.34933966e-02\n",
      "  -1.21302161e-01  1.62525753e-02]\n",
      " [-1.47439693e-03  2.13615808e-02  1.88829345e-03  5.52075220e-03\n",
      "   5.94634949e-03 -8.63880119e-02 -8.58559368e-02  1.00358988e-01\n",
      "  -1.71655994e-01 -6.98427346e-02  7.27454346e-02  4.35562102e-02\n",
      "  -5.96343098e-02 -1.00999916e-01 -9.31204728e-02 -5.45390597e-02\n",
      "   3.81179402e-02  1.73945958e-01  5.17286629e-01 -2.82250205e-01\n",
      "   6.63561208e-02  7.24062228e-01]\n",
      " [ 6.61596903e-04  4.23949331e-02  5.64722881e-03 -1.73807314e-02\n",
      "   2.16319770e-02 -1.60126493e-01 -4.81657364e-02  6.68592333e-02\n",
      "   4.69686844e-02 -1.19430991e-01 -1.17704462e-01  1.79460097e-01\n",
      "   1.10913658e-01 -1.39353526e-01  4.89862080e-02 -3.18185173e-01\n",
      "  -2.70263677e-01 -4.62288451e-01  2.64295800e-01  6.41708676e-02\n",
      "   6.17609478e-01 -1.57836092e-01]\n",
      " [ 7.43717301e-02  1.57121023e-01  8.25764007e-04  5.47619692e-02\n",
      "  -3.33632127e-02 -5.00896143e-02  6.70947798e-02  1.98053353e-01\n",
      "   1.80918042e-01  2.15995376e-01 -3.99768688e-01 -1.09505574e-01\n",
      "  -8.23158737e-02 -4.07137576e-01  7.44191702e-02  2.04126975e-01\n",
      "  -4.70538813e-01  5.91578462e-02 -8.89102166e-02 -4.45977730e-01\n",
      "  -1.20775232e-01 -4.69505927e-02]\n",
      " [-1.78840008e-02  9.07058648e-03  3.20004979e-03 -2.41135918e-02\n",
      "   1.01974068e-02 -1.31803570e-01 -6.12864052e-02 -2.12316022e-02\n",
      "   4.96537832e-01 -2.96367903e-01  2.90361307e-01  2.99983352e-01\n",
      "  -2.63331087e-01  1.39115992e-01  5.53297206e-01 -8.07312807e-03\n",
      "  -1.62699653e-01  2.00752033e-01  2.10182170e-03 -6.65426372e-02\n",
      "  -4.26755116e-02  2.67239011e-02]\n",
      " [ 4.24894412e-03 -4.64587484e-02 -2.39344580e-03 -4.57317131e-02\n",
      "   1.17196184e-02 -3.53308210e-01  1.18747867e-01 -4.23023314e-02\n",
      "  -3.86951377e-01 -2.25583877e-01  9.86585597e-03  2.94856153e-01\n",
      "   5.28475069e-01 -2.43717856e-01  1.73505870e-01 -8.48549139e-03\n",
      "  -8.97713159e-02  2.71922168e-01 -3.34040484e-01  1.52484474e-02\n",
      "  -2.02379417e-02  6.42543199e-02]\n",
      " [-2.87016950e-01  3.55751114e-01  3.10167009e-02 -1.42669651e-01\n",
      "  -6.41921222e-01  2.04177811e-01 -1.56645078e-01  1.32532725e-01\n",
      "  -1.32033533e-01 -1.63173309e-01  4.78364367e-02  9.99240748e-02\n",
      "  -3.23934385e-02 -1.74272140e-01 -2.05048681e-02 -2.77257287e-01\n",
      "   5.23755882e-02  7.96970643e-02  1.01266191e-01 -3.10681972e-02\n",
      "  -2.07688818e-01 -2.13069179e-01]\n",
      " [ 4.15146932e-01  1.97820314e-01  2.46295943e-02 -7.38976512e-01\n",
      "   1.54832135e-01 -1.46858395e-01  1.33695289e-01  2.40682567e-01\n",
      "  -9.08361959e-02 -9.94267380e-03  3.34539512e-02 -1.69482518e-01\n",
      "  -1.62476985e-01  6.77644904e-02  1.64912328e-02 -1.97095761e-01\n",
      "   6.19093193e-02  5.39843692e-02 -5.44573199e-02 -8.18225128e-03\n",
      "  -1.24081181e-02 -4.74098631e-02]\n",
      " [ 5.36906798e-01  4.06087444e-03  6.67693977e-01  3.67703462e-01\n",
      "  -2.10206308e-03  1.45287319e-01 -9.21480491e-02  1.63820751e-01\n",
      "  -4.52094587e-02 -1.28844878e-01 -5.12738078e-02  8.01860016e-02\n",
      "   2.29762208e-02 -1.52207048e-03  1.60541570e-02 -1.42750357e-01\n",
      "   6.94332957e-02  8.21908861e-02  3.81763516e-02  1.72857914e-02\n",
      "  -6.62268225e-02 -8.75461185e-02]\n",
      " [ 2.27858644e-01  5.19252896e-01 -4.27915825e-01  3.79752660e-01\n",
      "  -6.94671491e-02  1.94008322e-03  3.66431869e-01  2.11383681e-01\n",
      "   3.13944362e-02 -1.12063166e-01 -1.35430965e-01  8.58336859e-02\n",
      "  -3.37965343e-02  1.64141694e-01  2.18735042e-02  2.40043212e-02\n",
      "   2.27440333e-01  2.59434990e-02 -9.64990385e-02  8.41853309e-02\n",
      "   1.42956975e-01  9.85789856e-02]\n",
      " [ 4.29357876e-01 -3.15723049e-01 -6.07241060e-01  9.71642487e-02\n",
      "   3.01726862e-02  1.61108159e-01 -3.91406498e-01  4.99911182e-02\n",
      "  -7.26843524e-02 -6.94327315e-02  3.78966229e-02  3.26262330e-02\n",
      "   5.01232471e-02 -1.11145899e-01  1.23540813e-03 -2.00625503e-01\n",
      "  -8.37424562e-02  6.79280460e-02  1.06973625e-01 -4.68598459e-02\n",
      "  -1.83357987e-01 -1.69159689e-01]\n",
      " [ 3.49060671e-01 -3.41302225e-01 -9.26818636e-03 -8.94984404e-02\n",
      "  -7.32404781e-01 -1.92457345e-01  1.46720367e-01 -1.31934455e-01\n",
      "   9.22893420e-02  7.25463316e-02 -7.48980687e-03 -4.60035722e-02\n",
      "  -3.86668151e-02  5.75320081e-02  4.87968396e-03  2.04649666e-01\n",
      "  -4.59256452e-03 -1.41194187e-01 -7.60744083e-02  5.31719521e-02\n",
      "   1.31532598e-01  1.80687720e-01]]\n"
     ]
    }
   ],
   "source": [
    "eigvalue,eigvector = np.linalg.eig(sc_covariancematrix)\n",
    "print(\"Eigenvalues \\n%s\"%eigvalue)\n",
    "print(\"\\nEigenvector\\n%s\"%eigvector)"
   ]
  },
  {
   "cell_type": "code",
   "execution_count": 40,
   "metadata": {},
   "outputs": [
    {
     "name": "stdout",
     "output_type": "stream",
     "text": [
      "Eigenvalues in descending order:\n",
      "2.7584032948873847\n",
      "1.841311663594198\n",
      "0.031848786930982226\n",
      "0.45497619560309416\n",
      "0.4244364565898378\n",
      "1.3736629554140953\n",
      "0.6722598883287633\n",
      "0.7716285634181119\n",
      "1.1652775318816981\n",
      "1.1363391106396237\n",
      "1.112632118246756\n",
      "0.8108075863281852\n",
      "0.8363421424178755\n",
      "0.8692381830865509\n",
      "0.8826519791356404\n",
      "0.9083052981506611\n",
      "0.9241081554718847\n",
      "1.0371255950630673\n",
      "0.9786643507711537\n",
      "0.9892424659341646\n",
      "1.0175027443850564\n",
      "1.0090704774878014\n"
     ]
    }
   ],
   "source": [
    "eig_pairs = [(np.abs(eigvalue[i]), eigvector[:,i]) for i in range(len(eigvalue))]\n",
    "print('Eigenvalues in descending order:')\n",
    "for i in eig_pairs:\n",
    "    print(i[0])"
   ]
  },
  {
   "cell_type": "code",
   "execution_count": 41,
   "metadata": {},
   "outputs": [
    {
     "name": "stdout",
     "output_type": "stream",
     "text": [
      "[0.12534872 0.08367356]\n"
     ]
    }
   ],
   "source": [
    "from sklearn.decomposition import PCA\n",
    "pca = PCA(n_components=2)\n",
    "pca.fit_transform(scaled_data)\n",
    "print(pca.explained_variance_ratio_)"
   ]
  },
  {
   "cell_type": "markdown",
   "metadata": {},
   "source": [
    "## 5. PRINCIPAL COMPONENT ANALYSIS (PCA)"
   ]
  },
  {
   "cell_type": "code",
   "execution_count": 42,
   "metadata": {},
   "outputs": [],
   "source": [
    "from sklearn.decomposition import PCA"
   ]
  },
  {
   "cell_type": "code",
   "execution_count": 43,
   "metadata": {},
   "outputs": [],
   "source": [
    "pca=PCA(n_components=2)"
   ]
  },
  {
   "cell_type": "code",
   "execution_count": 44,
   "metadata": {},
   "outputs": [
    {
     "data": {
      "text/plain": [
       "PCA(n_components=2)"
      ]
     },
     "execution_count": 44,
     "metadata": {},
     "output_type": "execute_result"
    }
   ],
   "source": [
    "pca.fit(scaled_data)"
   ]
  },
  {
   "cell_type": "code",
   "execution_count": 45,
   "metadata": {},
   "outputs": [],
   "source": [
    "x_pca=pca.transform(scaled_data)"
   ]
  },
  {
   "cell_type": "code",
   "execution_count": 46,
   "metadata": {},
   "outputs": [
    {
     "data": {
      "text/plain": [
       "(3771, 22)"
      ]
     },
     "execution_count": 46,
     "metadata": {},
     "output_type": "execute_result"
    }
   ],
   "source": [
    "scaled_data.shape"
   ]
  },
  {
   "cell_type": "code",
   "execution_count": 47,
   "metadata": {},
   "outputs": [
    {
     "data": {
      "text/plain": [
       "(3771, 2)"
      ]
     },
     "execution_count": 47,
     "metadata": {},
     "output_type": "execute_result"
    }
   ],
   "source": [
    "x_pca.shape"
   ]
  },
  {
   "cell_type": "code",
   "execution_count": 48,
   "metadata": {},
   "outputs": [
    {
     "data": {
      "text/plain": [
       "array([[ 1.1338765 , -0.65949337,  2.66639784, ..., -0.92873586,\n",
       "         1.07022073,  0.26785839],\n",
       "       [-1.45153487, -0.65949337, -0.37503781, ...,  1.81156284,\n",
       "        -0.0643462 ,  0.26785839],\n",
       "       [-0.23797443, -0.65949337, -0.37503781, ...,  1.70410015,\n",
       "        -0.96005694,  0.26785839],\n",
       "       ...,\n",
       "       [ 1.92532896, -0.65949337, -0.37503781, ..., -0.01530296,\n",
       "         0.41336619, -2.41143599],\n",
       "       [ 0.65900503,  1.51631547, -0.37503781, ..., -0.60634778,\n",
       "         0.32379511,  0.26785839],\n",
       "       [-0.29073792, -0.65949337, -0.37503781, ..., -0.44515374,\n",
       "        -0.24348835,  0.26785839]])"
      ]
     },
     "execution_count": 48,
     "metadata": {},
     "output_type": "execute_result"
    }
   ],
   "source": [
    "scaled_data"
   ]
  },
  {
   "cell_type": "markdown",
   "metadata": {},
   "source": [
    "### 5.1 Data visualisation using PCA"
   ]
  },
  {
   "cell_type": "code",
   "execution_count": 49,
   "metadata": {},
   "outputs": [],
   "source": [
    "x=td['Class']\n",
    "j, k, l = 0, 0, 0\n",
    "x1 = [None for m in range(3771)]\n",
    "y1 = [None for m in range(3771)]\n",
    "x2 = [None for m in range(3771)]\n",
    "y2 = [None for m in range(3771)]\n",
    "x3 = [None for m in range(3771)]\n",
    "y3 = [None for m in range(3771)]\n",
    "\n",
    "for i in range(len(x)):\n",
    "  if x[i] == 1:\n",
    "    x1[j] = x_pca[i][0]\n",
    "    y1[j] = x_pca[i][1]\n",
    "    j += 1\n",
    "\n",
    "  if x[i] == 2:\n",
    "    x2[k] = x_pca[i][0]\n",
    "    y2[k] = x_pca[i][1]\n",
    "    k += 1\n",
    "  \n",
    "  if x[i] == 3:\n",
    "    x3[l] = x_pca[i][0]\n",
    "    y3[l] = x_pca[i][1]\n",
    "    l += 1"
   ]
  },
  {
   "cell_type": "code",
   "execution_count": 50,
   "metadata": {},
   "outputs": [],
   "source": [
    "pcdf = pd.DataFrame( data =  x_pca,\n",
    "                    columns = ['pc1', 'pc2'])\n",
    "pcdf['target'] = td[\"Class\"].map({1: 1, 2 : 2, 3 : 3 })"
   ]
  },
  {
   "cell_type": "code",
   "execution_count": 51,
   "metadata": {},
   "outputs": [
    {
     "data": {
      "text/plain": [
       "<matplotlib.legend.Legend at 0x197f1d39700>"
      ]
     },
     "execution_count": 51,
     "metadata": {},
     "output_type": "execute_result"
    },
    {
     "data": {
      "image/png": "[encoded data removed]",
      "text/plain": [
       "<Figure size 576x432 with 1 Axes>"
      ]
     },
     "metadata": {
      "needs_background": "light"
     },
     "output_type": "display_data"
    }
   ],
   "source": [
    "plt.figure(figsize=(8,6))\n",
    "plt.scatter(x3, y3, c = \"orange\", label = \"Hypothyroid\", alpha = 0.5)\n",
    "plt.scatter(x2, y2, c = \"red\", label = \"Hyperthyroid\", alpha = 0.5)\n",
    "plt.scatter(x1, y1, c = \"green\", label = \"Normal\", alpha = 0.5)\n",
    "plt.xlabel(\"First principal component\")\n",
    "plt.ylabel(\"Second principal component\")\n",
    "plt.title(\"2 Component PCA Analysis\",fontsize=20)\n",
    "plt.legend()"
   ]
  },
  {
   "cell_type": "code",
   "execution_count": 52,
   "metadata": {},
   "outputs": [
    {
     "data": {
      "text/html": [
       "<div>\n",
       "<style scoped>\n",
       "    .dataframe tbody tr th:only-of-type {\n",
       "        vertical-align: middle;\n",
       "    }\n",
       "\n",
       "    .dataframe tbody tr th {\n",
       "        vertical-align: top;\n",
       "    }\n",
       "\n",
       "    .dataframe thead th {\n",
       "        text-align: right;\n",
       "    }\n",
       "</style>\n",
       "<table border=\"1\" class=\"dataframe\">\n",
       "  <thead>\n",
       "    <tr style=\"text-align: right;\">\n",
       "      <th></th>\n",
       "      <th>pc1</th>\n",
       "      <th>pc2</th>\n",
       "      <th>target</th>\n",
       "    </tr>\n",
       "  </thead>\n",
       "  <tbody>\n",
       "    <tr>\n",
       "      <th>0</th>\n",
       "      <td>0.553133</td>\n",
       "      <td>-1.433358</td>\n",
       "      <td>3</td>\n",
       "    </tr>\n",
       "    <tr>\n",
       "      <th>1</th>\n",
       "      <td>1.718449</td>\n",
       "      <td>1.535308</td>\n",
       "      <td>3</td>\n",
       "    </tr>\n",
       "    <tr>\n",
       "      <th>2</th>\n",
       "      <td>0.213629</td>\n",
       "      <td>1.273166</td>\n",
       "      <td>3</td>\n",
       "    </tr>\n",
       "    <tr>\n",
       "      <th>3</th>\n",
       "      <td>-1.295203</td>\n",
       "      <td>-0.904930</td>\n",
       "      <td>3</td>\n",
       "    </tr>\n",
       "    <tr>\n",
       "      <th>4</th>\n",
       "      <td>1.487260</td>\n",
       "      <td>-0.181061</td>\n",
       "      <td>3</td>\n",
       "    </tr>\n",
       "  </tbody>\n",
       "</table>\n",
       "</div>"
      ],
      "text/plain": [
       "        pc1       pc2  target\n",
       "0  0.553133 -1.433358       3\n",
       "1  1.718449  1.535308       3\n",
       "2  0.213629  1.273166       3\n",
       "3 -1.295203 -0.904930       3\n",
       "4  1.487260 -0.181061       3"
      ]
     },
     "execution_count": 52,
     "metadata": {},
     "output_type": "execute_result"
    }
   ],
   "source": [
    "pcdf.head()"
   ]
  },
  {
   "cell_type": "code",
   "execution_count": 53,
   "metadata": {},
   "outputs": [],
   "source": [
    "X = pcdf.loc[: , 'pc1':'pc2']\n",
    "Y = pcdf.loc[:,'target']"
   ]
  },
  {
   "cell_type": "code",
   "execution_count": 54,
   "metadata": {},
   "outputs": [
    {
     "data": {
      "text/html": [
       "<div>\n",
       "<style scoped>\n",
       "    .dataframe tbody tr th:only-of-type {\n",
       "        vertical-align: middle;\n",
       "    }\n",
       "\n",
       "    .dataframe tbody tr th {\n",
       "        vertical-align: top;\n",
       "    }\n",
       "\n",
       "    .dataframe thead th {\n",
       "        text-align: right;\n",
       "    }\n",
       "</style>\n",
       "<table border=\"1\" class=\"dataframe\">\n",
       "  <thead>\n",
       "    <tr style=\"text-align: right;\">\n",
       "      <th></th>\n",
       "      <th>pc1</th>\n",
       "      <th>pc2</th>\n",
       "    </tr>\n",
       "  </thead>\n",
       "  <tbody>\n",
       "    <tr>\n",
       "      <th>0</th>\n",
       "      <td>0.553133</td>\n",
       "      <td>-1.433358</td>\n",
       "    </tr>\n",
       "    <tr>\n",
       "      <th>1</th>\n",
       "      <td>1.718449</td>\n",
       "      <td>1.535308</td>\n",
       "    </tr>\n",
       "    <tr>\n",
       "      <th>2</th>\n",
       "      <td>0.213629</td>\n",
       "      <td>1.273166</td>\n",
       "    </tr>\n",
       "    <tr>\n",
       "      <th>3</th>\n",
       "      <td>-1.295203</td>\n",
       "      <td>-0.904930</td>\n",
       "    </tr>\n",
       "    <tr>\n",
       "      <th>4</th>\n",
       "      <td>1.487260</td>\n",
       "      <td>-0.181061</td>\n",
       "    </tr>\n",
       "  </tbody>\n",
       "</table>\n",
       "</div>"
      ],
      "text/plain": [
       "        pc1       pc2\n",
       "0  0.553133 -1.433358\n",
       "1  1.718449  1.535308\n",
       "2  0.213629  1.273166\n",
       "3 -1.295203 -0.904930\n",
       "4  1.487260 -0.181061"
      ]
     },
     "execution_count": 54,
     "metadata": {},
     "output_type": "execute_result"
    }
   ],
   "source": [
    "X.head()"
   ]
  },
  {
   "cell_type": "code",
   "execution_count": 55,
   "metadata": {},
   "outputs": [
    {
     "data": {
      "text/plain": [
       "0    3\n",
       "1    3\n",
       "2    3\n",
       "3    3\n",
       "4    3\n",
       "Name: target, dtype: int64"
      ]
     },
     "execution_count": 55,
     "metadata": {},
     "output_type": "execute_result"
    }
   ],
   "source": [
    "Y.head()"
   ]
  },
  {
   "cell_type": "markdown",
   "metadata": {},
   "source": [
    "### Loading testing data"
   ]
  },
  {
   "cell_type": "code",
   "execution_count": 56,
   "metadata": {},
   "outputs": [],
   "source": [
    "test = pd.read_excel(r\"C:\\Users\\Nandhitha\\Desktop\\thyroid_testdata.xlsx\")"
   ]
  },
  {
   "cell_type": "code",
   "execution_count": 57,
   "metadata": {},
   "outputs": [
    {
     "data": {
      "text/html": [
       "<div>\n",
       "<style scoped>\n",
       "    .dataframe tbody tr th:only-of-type {\n",
       "        vertical-align: middle;\n",
       "    }\n",
       "\n",
       "    .dataframe tbody tr th {\n",
       "        vertical-align: top;\n",
       "    }\n",
       "\n",
       "    .dataframe thead th {\n",
       "        text-align: right;\n",
       "    }\n",
       "</style>\n",
       "<table border=\"1\" class=\"dataframe\">\n",
       "  <thead>\n",
       "    <tr style=\"text-align: right;\">\n",
       "      <th></th>\n",
       "      <th>Age</th>\n",
       "      <th>Sex</th>\n",
       "      <th>On_thyroxine</th>\n",
       "      <th>Query_on_thyroxine</th>\n",
       "      <th>On_antithyroid_medication</th>\n",
       "      <th>Sick</th>\n",
       "      <th>Pregnant</th>\n",
       "      <th>Thyroid_surgery</th>\n",
       "      <th>I131_treatment</th>\n",
       "      <th>Query_hypothyroid</th>\n",
       "      <th>...</th>\n",
       "      <th>Goiter</th>\n",
       "      <th>Tumor</th>\n",
       "      <th>Hypopituitary</th>\n",
       "      <th>Psych</th>\n",
       "      <th>TSH</th>\n",
       "      <th>T3</th>\n",
       "      <th>TT4</th>\n",
       "      <th>T4U</th>\n",
       "      <th>FTI</th>\n",
       "      <th>Class</th>\n",
       "    </tr>\n",
       "  </thead>\n",
       "  <tbody>\n",
       "    <tr>\n",
       "      <th>0</th>\n",
       "      <td>0.29</td>\n",
       "      <td>0</td>\n",
       "      <td>0</td>\n",
       "      <td>0</td>\n",
       "      <td>0</td>\n",
       "      <td>0</td>\n",
       "      <td>0</td>\n",
       "      <td>0</td>\n",
       "      <td>0</td>\n",
       "      <td>0</td>\n",
       "      <td>...</td>\n",
       "      <td>0</td>\n",
       "      <td>0</td>\n",
       "      <td>0</td>\n",
       "      <td>0</td>\n",
       "      <td>0.0061</td>\n",
       "      <td>0.028</td>\n",
       "      <td>0.111</td>\n",
       "      <td>0.131</td>\n",
       "      <td>0.085</td>\n",
       "      <td>2</td>\n",
       "    </tr>\n",
       "    <tr>\n",
       "      <th>1</th>\n",
       "      <td>0.32</td>\n",
       "      <td>0</td>\n",
       "      <td>0</td>\n",
       "      <td>0</td>\n",
       "      <td>0</td>\n",
       "      <td>0</td>\n",
       "      <td>0</td>\n",
       "      <td>0</td>\n",
       "      <td>0</td>\n",
       "      <td>0</td>\n",
       "      <td>...</td>\n",
       "      <td>0</td>\n",
       "      <td>0</td>\n",
       "      <td>0</td>\n",
       "      <td>0</td>\n",
       "      <td>0.0013</td>\n",
       "      <td>0.019</td>\n",
       "      <td>0.084</td>\n",
       "      <td>0.078</td>\n",
       "      <td>0.107</td>\n",
       "      <td>3</td>\n",
       "    </tr>\n",
       "    <tr>\n",
       "      <th>2</th>\n",
       "      <td>0.35</td>\n",
       "      <td>0</td>\n",
       "      <td>0</td>\n",
       "      <td>0</td>\n",
       "      <td>0</td>\n",
       "      <td>0</td>\n",
       "      <td>0</td>\n",
       "      <td>0</td>\n",
       "      <td>0</td>\n",
       "      <td>0</td>\n",
       "      <td>...</td>\n",
       "      <td>0</td>\n",
       "      <td>0</td>\n",
       "      <td>0</td>\n",
       "      <td>0</td>\n",
       "      <td>0.0000</td>\n",
       "      <td>0.031</td>\n",
       "      <td>0.239</td>\n",
       "      <td>0.100</td>\n",
       "      <td>0.239</td>\n",
       "      <td>3</td>\n",
       "    </tr>\n",
       "    <tr>\n",
       "      <th>3</th>\n",
       "      <td>0.21</td>\n",
       "      <td>0</td>\n",
       "      <td>0</td>\n",
       "      <td>0</td>\n",
       "      <td>0</td>\n",
       "      <td>0</td>\n",
       "      <td>0</td>\n",
       "      <td>0</td>\n",
       "      <td>0</td>\n",
       "      <td>0</td>\n",
       "      <td>...</td>\n",
       "      <td>0</td>\n",
       "      <td>0</td>\n",
       "      <td>0</td>\n",
       "      <td>0</td>\n",
       "      <td>0.0010</td>\n",
       "      <td>0.018</td>\n",
       "      <td>0.087</td>\n",
       "      <td>0.088</td>\n",
       "      <td>0.099</td>\n",
       "      <td>3</td>\n",
       "    </tr>\n",
       "    <tr>\n",
       "      <th>4</th>\n",
       "      <td>0.22</td>\n",
       "      <td>0</td>\n",
       "      <td>0</td>\n",
       "      <td>0</td>\n",
       "      <td>0</td>\n",
       "      <td>1</td>\n",
       "      <td>0</td>\n",
       "      <td>0</td>\n",
       "      <td>0</td>\n",
       "      <td>0</td>\n",
       "      <td>...</td>\n",
       "      <td>0</td>\n",
       "      <td>0</td>\n",
       "      <td>0</td>\n",
       "      <td>0</td>\n",
       "      <td>0.0004</td>\n",
       "      <td>0.022</td>\n",
       "      <td>0.134</td>\n",
       "      <td>0.135</td>\n",
       "      <td>0.099</td>\n",
       "      <td>3</td>\n",
       "    </tr>\n",
       "  </tbody>\n",
       "</table>\n",
       "<p>5 rows × 22 columns</p>\n",
       "</div>"
      ],
      "text/plain": [
       "    Age  Sex  On_thyroxine  Query_on_thyroxine  On_antithyroid_medication  \\\n",
       "0  0.29    0             0                   0                          0   \n",
       "1  0.32    0             0                   0                          0   \n",
       "2  0.35    0             0                   0                          0   \n",
       "3  0.21    0             0                   0                          0   \n",
       "4  0.22    0             0                   0                          0   \n",
       "\n",
       "   Sick  Pregnant  Thyroid_surgery  I131_treatment  Query_hypothyroid  ...  \\\n",
       "0     0         0                0               0                  0  ...   \n",
       "1     0         0                0               0                  0  ...   \n",
       "2     0         0                0               0                  0  ...   \n",
       "3     0         0                0               0                  0  ...   \n",
       "4     1         0                0               0                  0  ...   \n",
       "\n",
       "   Goiter  Tumor  Hypopituitary  Psych     TSH     T3    TT4    T4U    FTI  \\\n",
       "0       0      0              0      0  0.0061  0.028  0.111  0.131  0.085   \n",
       "1       0      0              0      0  0.0013  0.019  0.084  0.078  0.107   \n",
       "2       0      0              0      0  0.0000  0.031  0.239  0.100  0.239   \n",
       "3       0      0              0      0  0.0010  0.018  0.087  0.088  0.099   \n",
       "4       0      0              0      0  0.0004  0.022  0.134  0.135  0.099   \n",
       "\n",
       "   Class  \n",
       "0      2  \n",
       "1      3  \n",
       "2      3  \n",
       "3      3  \n",
       "4      3  \n",
       "\n",
       "[5 rows x 22 columns]"
      ]
     },
     "execution_count": 57,
     "metadata": {},
     "output_type": "execute_result"
    }
   ],
   "source": [
    "test.head()"
   ]
  },
  {
   "cell_type": "code",
   "execution_count": 58,
   "metadata": {},
   "outputs": [
    {
     "name": "stdout",
     "output_type": "stream",
     "text": [
      "<class 'pandas.core.frame.DataFrame'>\n",
      "RangeIndex: 3428 entries, 0 to 3427\n",
      "Data columns (total 22 columns):\n",
      " #   Column                     Non-Null Count  Dtype  \n",
      "---  ------                     --------------  -----  \n",
      " 0   Age                        3428 non-null   float64\n",
      " 1   Sex                        3428 non-null   int64  \n",
      " 2   On_thyroxine               3428 non-null   int64  \n",
      " 3   Query_on_thyroxine         3428 non-null   int64  \n",
      " 4   On_antithyroid_medication  3428 non-null   int64  \n",
      " 5   Sick                       3428 non-null   int64  \n",
      " 6   Pregnant                   3428 non-null   int64  \n",
      " 7   Thyroid_surgery            3428 non-null   int64  \n",
      " 8   I131_treatment             3428 non-null   int64  \n",
      " 9   Query_hypothyroid          3428 non-null   int64  \n",
      " 10  Query_hyperthyroid         3428 non-null   int64  \n",
      " 11  Lithium                    3428 non-null   int64  \n",
      " 12  Goiter                     3428 non-null   int64  \n",
      " 13  Tumor                      3428 non-null   int64  \n",
      " 14  Hypopituitary              3428 non-null   int64  \n",
      " 15  Psych                      3428 non-null   int64  \n",
      " 16  TSH                        3428 non-null   float64\n",
      " 17  T3                         3428 non-null   float64\n",
      " 18  TT4                        3428 non-null   float64\n",
      " 19  T4U                        3428 non-null   float64\n",
      " 20  FTI                        3428 non-null   float64\n",
      " 21  Class                      3428 non-null   int64  \n",
      "dtypes: float64(6), int64(16)\n",
      "memory usage: 589.3 KB\n"
     ]
    }
   ],
   "source": [
    "test.info()"
   ]
  },
  {
   "cell_type": "markdown",
   "metadata": {},
   "source": [
    "### Train test split"
   ]
  },
  {
   "cell_type": "code",
   "execution_count": 59,
   "metadata": {},
   "outputs": [],
   "source": [
    "X_train = td.drop('Class',axis=1)\n",
    "Y_train = td['Class']\n",
    "\n",
    "X_test = test.drop('Class',axis=1)\n",
    "Y_test = test['Class']"
   ]
  },
  {
   "cell_type": "markdown",
   "metadata": {},
   "source": [
    "### Importing ML and performace metrics libraries"
   ]
  },
  {
   "cell_type": "code",
   "execution_count": 60,
   "metadata": {},
   "outputs": [],
   "source": [
    "from sklearn import metrics\n",
    "from sklearn.metrics import confusion_matrix\n",
    "from sklearn.metrics import f1_score\n",
    "from sklearn.metrics import precision_score\n",
    "from sklearn.metrics import classification_report"
   ]
  },
  {
   "cell_type": "code",
   "execution_count": 61,
   "metadata": {},
   "outputs": [],
   "source": [
    "from sklearn.linear_model import LogisticRegression\n",
    "from sklearn.svm import SVC, LinearSVC\n",
    "from sklearn.ensemble import RandomForestClassifier\n",
    "from sklearn.neighbors import KNeighborsClassifier\n",
    "from sklearn.naive_bayes import GaussianNB\n",
    "from sklearn.tree import DecisionTreeClassifier"
   ]
  },
  {
   "cell_type": "markdown",
   "metadata": {},
   "source": [
    "### 1. Logistic Regression "
   ]
  },
  {
   "cell_type": "code",
   "execution_count": 62,
   "metadata": {},
   "outputs": [
    {
     "name": "stdout",
     "output_type": "stream",
     "text": [
      "Confusion Matrix:  [[  12    1   60]\n",
      " [   0    0  177]\n",
      " [   0    0 3178]]\n",
      "\n",
      "Accuracy %:  93.05717619603267\n",
      "f1 Score:  0.41546857481047933\n",
      "Precision:  0.6435334309419228\n"
     ]
    },
    {
     "name": "stderr",
     "output_type": "stream",
     "text": [
      "C:\\Users\\Nandhitha\\anaconda3\\lib\\site-packages\\sklearn\\linear_model\\_logistic.py:762: ConvergenceWarning: lbfgs failed to converge (status=1):\n",
      "STOP: TOTAL NO. of ITERATIONS REACHED LIMIT.\n",
      "\n",
      "Increase the number of iterations (max_iter) or scale the data as shown in:\n",
      "    https://scikit-learn.org/stable/modules/preprocessing.html\n",
      "Please also refer to the documentation for alternative solver options:\n",
      "    https://scikit-learn.org/stable/modules/linear_model.html#logistic-regression\n",
      "  n_iter_i = _check_optimize_result(\n"
     ]
    }
   ],
   "source": [
    "lr = LogisticRegression()\n",
    "lr.fit(X_train, Y_train)\n",
    "ypred_lr = lr.predict(X_test)\n",
    "\n",
    "acc_lr = lr.score(X_test, Y_test)\n",
    "f1_lr=f1_score(Y_test, ypred_lr, average='macro')\n",
    "prec_lr=precision_score(Y_test, ypred_lr, average='macro')\n",
    "\n",
    "print(\"Confusion Matrix: \",confusion_matrix(Y_test, ypred_lr))\n",
    "print()\n",
    "print(\"Accuracy %: \",acc_lr*100)\n",
    "print(\"f1 Score: \",f1_lr)\n",
    "print(\"Precision: \",prec_lr)"
   ]
  },
  {
   "cell_type": "markdown",
   "metadata": {},
   "source": [
    "### 2. K Nearest Neighbor"
   ]
  },
  {
   "cell_type": "code",
   "execution_count": 63,
   "metadata": {},
   "outputs": [
    {
     "name": "stdout",
     "output_type": "stream",
     "text": [
      "Confusion Matrix:  [[   0    0   73]\n",
      " [   0    0  177]\n",
      " [   0    0 3178]]\n",
      "\n",
      "Accuracy %:  92.7071178529755\n",
      "f1 Score:  0.3207185387021899\n",
      "Precision:  0.30902372617658497\n"
     ]
    },
    {
     "name": "stderr",
     "output_type": "stream",
     "text": [
      "C:\\Users\\Nandhitha\\anaconda3\\lib\\site-packages\\sklearn\\metrics\\_classification.py:1221: UndefinedMetricWarning: Precision is ill-defined and being set to 0.0 in labels with no predicted samples. Use `zero_division` parameter to control this behavior.\n",
      "  _warn_prf(average, modifier, msg_start, len(result))\n"
     ]
    }
   ],
   "source": [
    "knn = KNeighborsClassifier(n_neighbors = 10)\n",
    "knn.fit(X_train, Y_train)\n",
    "ypred_knn = knn.predict(X_test)\n",
    "\n",
    "acc_knn = knn.score(X_test, Y_test)\n",
    "f1_knn=f1_score(Y_test, ypred_knn, average='macro')\n",
    "prec_knn=precision_score(Y_test, ypred_knn, average='macro')\n",
    "\n",
    "print(\"Confusion Matrix: \",confusion_matrix(Y_test, ypred_knn))\n",
    "print()\n",
    "print(\"Accuracy %: \",acc_knn*100)\n",
    "print(\"f1 Score: \",f1_knn)\n",
    "print(\"Precision: \",prec_knn)"
   ]
  },
  {
   "cell_type": "markdown",
   "metadata": {},
   "source": [
    "### 3.Decision tree"
   ]
  },
  {
   "cell_type": "code",
   "execution_count": 64,
   "metadata": {},
   "outputs": [
    {
     "name": "stdout",
     "output_type": "stream",
     "text": [
      "Confusion Matrix:  [[  71    0    2]\n",
      " [   0  177    0]\n",
      " [   7   11 3160]]\n",
      "\n",
      "Accuracy %:  99.41656942823805\n",
      "f1 Score:  0.9690352635198386\n",
      "Precision:  0.950371086963198\n"
     ]
    }
   ],
   "source": [
    "dt = DecisionTreeClassifier()\n",
    "dt.fit(X_train, Y_train)\n",
    "ypred_dt = dt.predict(X_test)\n",
    "\n",
    "acc_dt = dt.score(X_test, Y_test)\n",
    "f1_dt=f1_score(Y_test, ypred_dt, average='macro')\n",
    "prec_dt =precision_score(Y_test, ypred_dt, average='macro')\n",
    "\n",
    "print(\"Confusion Matrix: \",confusion_matrix(Y_test, ypred_dt))\n",
    "print()\n",
    "print(\"Accuracy %: \",acc_dt*100)\n",
    "print(\"f1 Score: \",f1_dt)\n",
    "print(\"Precision: \",prec_dt)"
   ]
  },
  {
   "cell_type": "markdown",
   "metadata": {},
   "source": [
    "### 4. Random forest"
   ]
  },
  {
   "cell_type": "code",
   "execution_count": 65,
   "metadata": {},
   "outputs": [
    {
     "name": "stdout",
     "output_type": "stream",
     "text": [
      "Confusion Matrix:  [[  70    1    2]\n",
      " [   0  177    0]\n",
      " [  11   12 3155]]\n",
      "\n",
      "Accuracy %:  99.24154025670944\n",
      "f1 Score:  0.9565740786178258\n",
      "Precision:  0.9317143218013278\n"
     ]
    }
   ],
   "source": [
    "rf = RandomForestClassifier()\n",
    "rf.fit(X_train, Y_train)\n",
    "ypred_rf = rf.predict(X_test)\n",
    "\n",
    "acc_rf = rf.score(X_test, Y_test)\n",
    "f1_rf=f1_score(Y_test, ypred_rf, average='macro')\n",
    "prec_rf=precision_score(Y_test, ypred_rf, average='macro')\n",
    "\n",
    "print(\"Confusion Matrix: \",confusion_matrix(Y_test, ypred_rf))\n",
    "print()\n",
    "print(\"Accuracy %: \",acc_rf*100)\n",
    "print(\"f1 Score: \",f1_rf)\n",
    "print(\"Precision: \",prec_rf)"
   ]
  },
  {
   "cell_type": "markdown",
   "metadata": {},
   "source": [
    "### 5. Naive Bayes "
   ]
  },
  {
   "cell_type": "code",
   "execution_count": 66,
   "metadata": {},
   "outputs": [
    {
     "name": "stdout",
     "output_type": "stream",
     "text": [
      "Confusion Matrix:  [[  70    2    1]\n",
      " [  94   81    2]\n",
      " [1185 1710  283]]\n",
      "\n",
      "Accuracy %:  12.66044340723454\n",
      "f1 Score:  0.11469376832322405\n",
      "Precision:  0.36219215394200727\n"
     ]
    }
   ],
   "source": [
    "nb = GaussianNB()\n",
    "nb.fit(X_train, Y_train)\n",
    "ypred_nb = nb.predict(X_test)\n",
    "\n",
    "acc_nb = nb.score(X_test, Y_test)\n",
    "f1_nb=f1_score(Y_test, ypred_nb, average='macro')\n",
    "prec_nb=precision_score(Y_test, ypred_nb, average='macro')\n",
    "\n",
    "print(\"Confusion Matrix: \",confusion_matrix(Y_test, ypred_nb))\n",
    "print()\n",
    "print(\"Accuracy %: \",acc_nb*100)\n",
    "print(\"f1 Score: \",f1_nb)\n",
    "print(\"Precision: \",prec_nb)"
   ]
  },
  {
   "cell_type": "markdown",
   "metadata": {},
   "source": [
    "### 6. Support vector machine"
   ]
  },
  {
   "cell_type": "code",
   "execution_count": 67,
   "metadata": {},
   "outputs": [
    {
     "name": "stdout",
     "output_type": "stream",
     "text": [
      "Confusion Matrix:  [[  15    0   58]\n",
      " [   0    0  177]\n",
      " [   0    0 3178]]\n",
      "\n",
      "Accuracy %:  93.14469078179697\n",
      "f1 Score:  0.43508480342799866\n",
      "Precision:  0.643715206563141\n"
     ]
    },
    {
     "name": "stderr",
     "output_type": "stream",
     "text": [
      "C:\\Users\\Nandhitha\\anaconda3\\lib\\site-packages\\sklearn\\metrics\\_classification.py:1221: UndefinedMetricWarning: Precision is ill-defined and being set to 0.0 in labels with no predicted samples. Use `zero_division` parameter to control this behavior.\n",
      "  _warn_prf(average, modifier, msg_start, len(result))\n"
     ]
    }
   ],
   "source": [
    "svm =SVC(kernel=\"linear\")\n",
    "svm.fit(X_train, Y_train)\n",
    "ypred_svm = svm.predict(X_test)\n",
    "\n",
    "acc_svm = svm.score(X_test, Y_test)\n",
    "f1_svm=f1_score(Y_test, ypred_svm, average='macro')\n",
    "prec_svm=precision_score(Y_test, ypred_svm, average='macro')\n",
    "\n",
    "print(\"Confusion Matrix: \",confusion_matrix(Y_test, ypred_svm))\n",
    "print()\n",
    "print(\"Accuracy %: \",acc_svm*100)\n",
    "print(\"f1 Score: \",f1_svm)\n",
    "print(\"Precision: \",prec_svm)\n"
   ]
  },
  {
   "cell_type": "markdown",
   "metadata": {},
   "source": [
    "### Sorting of algorithms in descending order of accuracy"
   ]
  },
  {
   "cell_type": "code",
   "execution_count": 68,
   "metadata": {},
   "outputs": [
    {
     "data": {
      "text/html": [
       "<div>\n",
       "<style scoped>\n",
       "    .dataframe tbody tr th:only-of-type {\n",
       "        vertical-align: middle;\n",
       "    }\n",
       "\n",
       "    .dataframe tbody tr th {\n",
       "        vertical-align: top;\n",
       "    }\n",
       "\n",
       "    .dataframe thead th {\n",
       "        text-align: right;\n",
       "    }\n",
       "</style>\n",
       "<table border=\"1\" class=\"dataframe\">\n",
       "  <thead>\n",
       "    <tr style=\"text-align: right;\">\n",
       "      <th></th>\n",
       "      <th>Model</th>\n",
       "      <th>Accuracy</th>\n",
       "    </tr>\n",
       "  </thead>\n",
       "  <tbody>\n",
       "    <tr>\n",
       "      <th>5</th>\n",
       "      <td>Decision Tree</td>\n",
       "      <td>0.994166</td>\n",
       "    </tr>\n",
       "    <tr>\n",
       "      <th>2</th>\n",
       "      <td>Random Forest</td>\n",
       "      <td>0.992415</td>\n",
       "    </tr>\n",
       "    <tr>\n",
       "      <th>4</th>\n",
       "      <td>Linear SVM</td>\n",
       "      <td>0.931447</td>\n",
       "    </tr>\n",
       "    <tr>\n",
       "      <th>1</th>\n",
       "      <td>Logistic Regression</td>\n",
       "      <td>0.930572</td>\n",
       "    </tr>\n",
       "    <tr>\n",
       "      <th>0</th>\n",
       "      <td>KNN</td>\n",
       "      <td>0.927071</td>\n",
       "    </tr>\n",
       "    <tr>\n",
       "      <th>3</th>\n",
       "      <td>Naive Bayes</td>\n",
       "      <td>0.126604</td>\n",
       "    </tr>\n",
       "  </tbody>\n",
       "</table>\n",
       "</div>"
      ],
      "text/plain": [
       "                 Model  Accuracy\n",
       "5        Decision Tree  0.994166\n",
       "2        Random Forest  0.992415\n",
       "4           Linear SVM  0.931447\n",
       "1  Logistic Regression  0.930572\n",
       "0                  KNN  0.927071\n",
       "3          Naive Bayes  0.126604"
      ]
     },
     "execution_count": 68,
     "metadata": {},
     "output_type": "execute_result"
    }
   ],
   "source": [
    "models = pd.DataFrame({\n",
    "    'Model': [ 'KNN', 'Logistic Regression', \n",
    "              'Random Forest', 'Naive Bayes','Linear SVM', \n",
    "              'Decision Tree'],\n",
    "    'Accuracy': [ acc_knn, acc_lr, \n",
    "              acc_rf, acc_nb, acc_svm, acc_dt]})\n",
    "models.sort_values(by='Accuracy', ascending=False)"
   ]
  },
  {
   "cell_type": "code",
   "execution_count": 69,
   "metadata": {},
   "outputs": [],
   "source": [
    "score=[acc_knn, acc_lr, \n",
    "              acc_rf, acc_nb, acc_svm, acc_dt]"
   ]
  },
  {
   "cell_type": "code",
   "execution_count": 70,
   "metadata": {},
   "outputs": [],
   "source": [
    "names= ['KNN','Logistic Regression', \n",
    "              'Random Forest', 'Naive Bayes','Linear SVM', \n",
    "              'Decision Tree']"
   ]
  },
  {
   "cell_type": "code",
   "execution_count": 71,
   "metadata": {},
   "outputs": [],
   "source": [
    "df=pd.DataFrame()"
   ]
  },
  {
   "cell_type": "code",
   "execution_count": 72,
   "metadata": {},
   "outputs": [],
   "source": [
    "df['name']=names"
   ]
  },
  {
   "cell_type": "code",
   "execution_count": 73,
   "metadata": {},
   "outputs": [],
   "source": [
    "df['score']=score"
   ]
  },
  {
   "cell_type": "code",
   "execution_count": 74,
   "metadata": {},
   "outputs": [
    {
     "data": {
      "text/html": [
       "<div>\n",
       "<style scoped>\n",
       "    .dataframe tbody tr th:only-of-type {\n",
       "        vertical-align: middle;\n",
       "    }\n",
       "\n",
       "    .dataframe tbody tr th {\n",
       "        vertical-align: top;\n",
       "    }\n",
       "\n",
       "    .dataframe thead th {\n",
       "        text-align: right;\n",
       "    }\n",
       "</style>\n",
       "<table border=\"1\" class=\"dataframe\">\n",
       "  <thead>\n",
       "    <tr style=\"text-align: right;\">\n",
       "      <th></th>\n",
       "      <th>name</th>\n",
       "      <th>score</th>\n",
       "    </tr>\n",
       "  </thead>\n",
       "  <tbody>\n",
       "    <tr>\n",
       "      <th>0</th>\n",
       "      <td>KNN</td>\n",
       "      <td>0.927071</td>\n",
       "    </tr>\n",
       "    <tr>\n",
       "      <th>1</th>\n",
       "      <td>Logistic Regression</td>\n",
       "      <td>0.930572</td>\n",
       "    </tr>\n",
       "    <tr>\n",
       "      <th>2</th>\n",
       "      <td>Random Forest</td>\n",
       "      <td>0.992415</td>\n",
       "    </tr>\n",
       "    <tr>\n",
       "      <th>3</th>\n",
       "      <td>Naive Bayes</td>\n",
       "      <td>0.126604</td>\n",
       "    </tr>\n",
       "    <tr>\n",
       "      <th>4</th>\n",
       "      <td>Linear SVM</td>\n",
       "      <td>0.931447</td>\n",
       "    </tr>\n",
       "    <tr>\n",
       "      <th>5</th>\n",
       "      <td>Decision Tree</td>\n",
       "      <td>0.994166</td>\n",
       "    </tr>\n",
       "  </tbody>\n",
       "</table>\n",
       "</div>"
      ],
      "text/plain": [
       "                  name     score\n",
       "0                  KNN  0.927071\n",
       "1  Logistic Regression  0.930572\n",
       "2        Random Forest  0.992415\n",
       "3          Naive Bayes  0.126604\n",
       "4           Linear SVM  0.931447\n",
       "5        Decision Tree  0.994166"
      ]
     },
     "execution_count": 74,
     "metadata": {},
     "output_type": "execute_result"
    }
   ],
   "source": [
    "df"
   ]
  },
  {
   "cell_type": "markdown",
   "metadata": {},
   "source": [
    "### Visualisation of various Machine learning algorithms"
   ]
  },
  {
   "cell_type": "code",
   "execution_count": 75,
   "metadata": {},
   "outputs": [
    {
     "name": "stderr",
     "output_type": "stream",
     "text": [
      "C:\\Users\\Nandhitha\\anaconda3\\lib\\site-packages\\seaborn\\categorical.py:3666: UserWarning: The `factorplot` function has been renamed to `catplot`. The original name will be removed in a future release. Please update your code. Note that the default `kind` in `factorplot` (`'point'`) has changed `'strip'` in `catplot`.\n",
      "  warnings.warn(msg)\n"
     ]
    },
    {
     "data": {
      "text/plain": [
       "<seaborn.axisgrid.FacetGrid at 0x197ef596730>"
      ]
     },
     "execution_count": 75,
     "metadata": {},
     "output_type": "execute_result"
    },
    {
     "data": {
      "image/png": "[encoded data removed]",
      "text/plain": [
       "<Figure size 360x360 with 1 Axes>"
      ]
     },
     "metadata": {
      "needs_background": "light"
     },
     "output_type": "display_data"
    }
   ],
   "source": [
    "sns.factorplot(x='score',y='name',data=df)"
   ]
  },
  {
   "cell_type": "code",
   "execution_count": 76,
   "metadata": {},
   "outputs": [
    {
     "data": {
      "text/plain": [
       "<matplotlib.axes._subplots.AxesSubplot at 0x197ef53fc70>"
      ]
     },
     "execution_count": 76,
     "metadata": {},
     "output_type": "execute_result"
    },
    {
     "data": {
      "image/png": "[encoded data removed]",
      "text/plain": [
       "<Figure size 432x288 with 1 Axes>"
      ]
     },
     "metadata": {
      "needs_background": "light"
     },
     "output_type": "display_data"
    }
   ],
   "source": [
    "sns.barplot(x='score',y='name',data=df,saturation=0.75)"
   ]
  },
  {
   "cell_type": "markdown",
   "metadata": {},
   "source": [
    "### Prediction of classes of thyroid using Decision tree (since it has high accuracy)"
   ]
  },
  {
   "cell_type": "code",
   "execution_count": 77,
   "metadata": {},
   "outputs": [],
   "source": [
    "Y_pred_dt = dt.predict(X_test[0:80])"
   ]
  },
  {
   "cell_type": "code",
   "execution_count": 78,
   "metadata": {},
   "outputs": [
    {
     "data": {
      "text/plain": [
       "array([2, 3, 3, 3, 3, 3, 3, 3, 3, 3, 1, 3, 3, 3, 3, 3, 3, 3, 3, 3, 3, 3,\n",
       "       2, 3, 3, 3, 2, 2, 3, 3, 3, 3, 3, 3, 3, 3, 3, 3, 3, 3, 3, 3, 3, 3,\n",
       "       3, 3, 3, 3, 3, 3, 3, 3, 3, 3, 2, 3, 2, 3, 3, 3, 3, 3, 3, 3, 3, 3,\n",
       "       3, 3, 3, 1, 3, 3, 3, 3, 3, 3, 3, 3, 3, 3])"
      ]
     },
     "execution_count": 78,
     "metadata": {},
     "output_type": "execute_result"
    }
   ],
   "source": [
    "Y_pred_dt"
   ]
  }
 ],
 "metadata": {
  "kernelspec": {
   "display_name": "Python 3",
   "language": "python",
   "name": "python3"
  },
  "language_info": {
   "codemirror_mode": {
    "name": "ipython",
    "version": 3
   },
   "file_extension": ".py",
   "mimetype": "text/x-python",
   "name": "python",
   "nbconvert_exporter": "python",
   "pygments_lexer": "ipython3",
   "version": "3.8.3"
  }
 },
 "nbformat": 4,
 "nbformat_minor": 4
}
